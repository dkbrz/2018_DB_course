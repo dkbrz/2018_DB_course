{
 "cells": [
  {
   "cell_type": "markdown",
   "metadata": {},
   "source": [
    "# Домашняя работа 1.\n",
    "\n",
    "## Задание\n",
    "Хранить историю контрольных работ с заданиями, какой студент на что сдал, информацию о студенте."
   ]
  },
  {
   "cell_type": "code",
   "execution_count": 1,
   "metadata": {},
   "outputs": [],
   "source": [
    "import sqlite3"
   ]
  },
  {
   "cell_type": "markdown",
   "metadata": {},
   "source": [
    "Создаем пустую базу данных"
   ]
  },
  {
   "cell_type": "markdown",
   "metadata": {},
   "source": [
    "Создаем таблицы\n",
    "\n",
    "#### tests - контрольные работы. Общее.\n",
    "- id_test - идентификатор контрольной работы **(int)**\n",
    "- discipline - название курса/предмета **(str)**\n",
    "- task_text - текст задания **(str)**\n",
    "- t_name - название работы **(str)**\n",
    "- c_date - дата **(str)**\n",
    "\n",
    "#### students - информация о студентах\n",
    "- id_student - идентификатор студента **(int)**\n",
    "- s_name - имя **(str)**\n",
    "- s_course - курс обучения **(int)**\n",
    "- s_degree - бакалавриат/магистратура **(str)**\n",
    "- s_program - программа подготовки **(str)**\n",
    "\n",
    "\n",
    "#### results - результаты работ\n",
    "- id_result - идентификатор решения **(int)**\n",
    "- id_student - id студента **(int)**\n",
    "- id_test - id контрольной работы **(int)**\n",
    "- mark - оценка за работы **(int)**"
   ]
  },
  {
   "cell_type": "code",
   "execution_count": 2,
   "metadata": {},
   "outputs": [],
   "source": [
    "create_table = {\n",
    "    'tests': [('id_test','INTEGER PRIMARY KEY AUTOINCREMENT'),('discipline','TEXT'),('task_text','TEXT'),('t_name','TEXT'),('c_date','TEXT')],\n",
    "    'students': [('id_student','INTEGER PRIMARY KEY AUTOINCREMENT'),('s_name','TEXT'),('s_course','INTEGER'),('s_degree','TEXT'),('s_program','TEXT')],\n",
    "    'results': [('id_result','INTEGER PRIMARY KEY AUTOINCREMENT'),('id_student','INTEGER'),('id_test','INTEGER'),('mark','INTEGER')]\n",
    "}"
   ]
  },
  {
   "cell_type": "code",
   "execution_count": 3,
   "metadata": {},
   "outputs": [],
   "source": [
    "def create_tables(cur, create_table):\n",
    "    for i in create_table:\n",
    "        row = ', '.join([' '.join(pair) for pair in create_table[i]])\n",
    "        command = 'CREATE TABLE {} ({})'.format(i, row)\n",
    "        print (command)\n",
    "        cur.execute(command)"
   ]
  },
  {
   "cell_type": "code",
   "execution_count": 4,
   "metadata": {},
   "outputs": [],
   "source": [
    "con = sqlite3.connect('test.db')\n",
    "cur = con.cursor()"
   ]
  },
  {
   "cell_type": "code",
   "execution_count": 5,
   "metadata": {},
   "outputs": [
    {
     "name": "stdout",
     "output_type": "stream",
     "text": [
      "CREATE TABLE tests (id_test INTEGER PRIMARY KEY AUTOINCREMENT, discipline TEXT, task_text TEXT, t_name TEXT, c_date TEXT)\n",
      "CREATE TABLE students (id_student INTEGER PRIMARY KEY AUTOINCREMENT, s_name TEXT, s_course INTEGER, s_degree TEXT, s_program TEXT)\n",
      "CREATE TABLE results (id_result INTEGER PRIMARY KEY AUTOINCREMENT, id_student INTEGER, id_test INTEGER, mark INTEGER)\n"
     ]
    }
   ],
   "source": [
    "create_tables(cur, create_table)"
   ]
  },
  {
   "cell_type": "code",
   "execution_count": 6,
   "metadata": {},
   "outputs": [],
   "source": [
    "con.commit()"
   ]
  },
  {
   "cell_type": "code",
   "execution_count": 7,
   "metadata": {},
   "outputs": [
    {
     "data": {
      "text/plain": [
       "'Vfxbjr'"
      ]
     },
     "execution_count": 7,
     "metadata": {},
     "output_type": "execute_result"
    }
   ],
   "source": [
    "import random\n",
    "import string\n",
    "s = string.ascii_lowercase\n",
    "''.join(random.sample(string.ascii_lowercase,6)).capitalize()"
   ]
  },
  {
   "cell_type": "code",
   "execution_count": 8,
   "metadata": {},
   "outputs": [],
   "source": [
    "DISCIPLINES = ['Теория языка','Дискретная математика','Матанализ', 'Статистика', 'Французский']"
   ]
  },
  {
   "cell_type": "code",
   "execution_count": 9,
   "metadata": {},
   "outputs": [],
   "source": [
    "def random_name():\n",
    "    return '{} {}'.format(''.join(random.sample(string.ascii_lowercase,9)).capitalize(),\n",
    "                         ''.join(random.sample(string.ascii_lowercase,6)).capitalize())"
   ]
  },
  {
   "cell_type": "code",
   "execution_count": 10,
   "metadata": {},
   "outputs": [],
   "source": [
    "DATES = ['2018-09-01','2018-09-02','2018-09-20','2018-09-21','2018-10-01','2018-10-05']"
   ]
  },
  {
   "cell_type": "code",
   "execution_count": 11,
   "metadata": {},
   "outputs": [
    {
     "data": {
      "text/plain": [
       "'Lzahwoqim Ezjbis'"
      ]
     },
     "execution_count": 11,
     "metadata": {},
     "output_type": "execute_result"
    }
   ],
   "source": [
    "random_name()"
   ]
  },
  {
   "cell_type": "code",
   "execution_count": 12,
   "metadata": {},
   "outputs": [],
   "source": [
    "PROGRAMS = ['РКИ','Теория','Комплинг']"
   ]
  },
  {
   "cell_type": "code",
   "execution_count": 13,
   "metadata": {},
   "outputs": [],
   "source": [
    "def generate_data():\n",
    "    #tests\n",
    "    for i in range(20):\n",
    "        cur.execute('INSERT INTO tests (id_test, discipline, task_text, t_name, c_date) VALUES ({},\\\"{}\\\",\\\"{}\\\",\\\"{}\\\",\\\"{}\\\")'.format(\n",
    "        str(i), random.choice(DISCIPLINES), ''.join(random.sample(string.ascii_lowercase,25)).capitalize(), \n",
    "            ''.join(random.sample(string.ascii_lowercase+' ',25)).capitalize(), random.choice(DATES)\n",
    "        ))\n",
    "    for i in range(300):\n",
    "        cur.execute('INSERT INTO students (id_student, s_name, s_course, s_degree, s_program) VALUES ({},\\\"{}\\\",{},\\\"бак\\\",\\\"ФиКЛ\\\")'.format(\n",
    "        str(i), random_name(), str(random.randint(1,4))\n",
    "        ))\n",
    "    for i in range(100):\n",
    "        cur.execute('INSERT INTO students (id_student, s_name, s_course, s_degree, s_program) VALUES ({},\\\"{}\\\",{},\\\"маг\\\",\\\"{}\\\")'.format(\n",
    "        str(300+i), random_name(), str(random.randint(1,2)), random.choice(PROGRAMS)\n",
    "        )) \n",
    "    for i in range(1000):\n",
    "        cur.execute('INSERT INTO results (id_result, id_student, id_test, mark) VALUES ({},{},{},{})'.format(\n",
    "        str(i), random.randint(0,400), random.randint(0,20), random.randint(3,10)\n",
    "        ))\n",
    "    con.commit()"
   ]
  },
  {
   "cell_type": "code",
   "execution_count": 14,
   "metadata": {},
   "outputs": [],
   "source": [
    "generate_data()"
   ]
  },
  {
   "cell_type": "code",
   "execution_count": 19,
   "metadata": {},
   "outputs": [
    {
     "data": {
      "text/plain": [
       "[(10, 'Статистика', '2018-09-20', 'Wdgfjqltx Xmiwyd'),\n",
       " (8, 'Матанализ', '2018-10-01', 'Wdgfjqltx Xmiwyd')]"
      ]
     },
     "execution_count": 19,
     "metadata": {},
     "output_type": "execute_result"
    }
   ],
   "source": [
    "cur.execute(\"SELECT DISTINCT results.mark, tests.discipline, tests.c_date, students.s_name FROM students, results, tests WHERE results.id_student = 40 AND students.id_student=results.id_student AND tests.id_test=results.id_test\")\n",
    "cur.fetchall()"
   ]
  },
  {
   "cell_type": "code",
   "execution_count": 21,
   "metadata": {},
   "outputs": [
    {
     "data": {
      "text/plain": [
       "[('Hxginokc vejypafqrudbszlw',),\n",
       " ('Tpvilbdhxqjngfzkmcuys oew',),\n",
       " ('Pudtkhbmioxcewylfqasgj zn',),\n",
       " ('Mobltcaueqpjnrdkyhvswfig ',),\n",
       " ('Kqaltynujfmzpcgvwhxsoride',),\n",
       " ('Sdgqw umxfpnialejbtochkyv',),\n",
       " ('Auhqfj bsygtdecnmzvxopkwr',),\n",
       " ('Tlsnkmfbdc awrhpjgozequyx',),\n",
       " ('Xetmfjnwcapquzirdb lkohsy',),\n",
       " ('Yjgncqs uhfxiwzdkrotpelmb',),\n",
       " ('Xtpfleuboyhkaqmdcvnzigwrj',),\n",
       " ('Adjvqfxmhglziucprkwtys eo',),\n",
       " ('Hxvfkmiwjyoeqgadrtpcuzbln',),\n",
       " ('Paswrzkomhlnqfybt cjidguv',),\n",
       " (' bztdyisepfojxkrnwlhugmva',),\n",
       " ('Bpoflstqzarindejhym gxwvk',),\n",
       " ('Mif yakqhndloprvusgjbcxwe',),\n",
       " ('Htovmpuwdxfai jglnskceqyb',),\n",
       " ('Qfvxadbgkzycuwojernsmpilh',),\n",
       " (' dhalxtijprnvqzgokcbmeyuf',)]"
      ]
     },
     "execution_count": 21,
     "metadata": {},
     "output_type": "execute_result"
    }
   ],
   "source": [
    "#1\n",
    "n = 6\n",
    "cur.execute(\"SELECT DISTINCT tests.t_name FROM tests\")\n",
    "cur.fetchall()"
   ]
  },
  {
   "cell_type": "code",
   "execution_count": 82,
   "metadata": {},
   "outputs": [
    {
     "data": {
      "text/plain": [
       "3"
      ]
     },
     "execution_count": 82,
     "metadata": {},
     "output_type": "execute_result"
    }
   ],
   "source": [
    "random.randint(0,20)"
   ]
  }
 ],
 "metadata": {
  "kernelspec": {
   "display_name": "Python 3",
   "language": "python",
   "name": "python3"
  },
  "language_info": {
   "codemirror_mode": {
    "name": "ipython",
    "version": 3
   },
   "file_extension": ".py",
   "mimetype": "text/x-python",
   "name": "python",
   "nbconvert_exporter": "python",
   "pygments_lexer": "ipython3",
   "version": "3.6.6"
  }
 },
 "nbformat": 4,
 "nbformat_minor": 2
}
