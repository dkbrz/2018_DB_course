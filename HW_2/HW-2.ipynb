{
 "cells": [
  {
   "cell_type": "code",
   "execution_count": 1,
   "metadata": {},
   "outputs": [],
   "source": [
    "import mysql.connector"
   ]
  },
  {
   "cell_type": "markdown",
   "metadata": {},
   "source": [
    "У системного администратора есть список оборудования и список сотрудников. Необходимо хранить что у кого находится."
   ]
  },
  {
   "cell_type": "markdown",
   "metadata": {},
   "source": [
    "## Create database"
   ]
  },
  {
   "cell_type": "code",
   "execution_count": 2,
   "metadata": {},
   "outputs": [],
   "source": [
    "mydb = mysql.connector.connect(\n",
    "  host=\"localhost\",\n",
    "  user=\"root\",\n",
    "  passwd=\"mandarinka\"\n",
    ")"
   ]
  },
  {
   "cell_type": "code",
   "execution_count": 3,
   "metadata": {},
   "outputs": [],
   "source": [
    "mycursor = mydb.cursor()"
   ]
  },
  {
   "cell_type": "markdown",
   "metadata": {},
   "source": [
    "**create**"
   ]
  },
  {
   "cell_type": "code",
   "execution_count": 7,
   "metadata": {},
   "outputs": [],
   "source": [
    "mycursor.execute(\"CREATE DATABASE techdata;\")"
   ]
  },
  {
   "cell_type": "code",
   "execution_count": 9,
   "metadata": {},
   "outputs": [],
   "source": [
    "mycursor.execute(\"ALTER DATABASE techdata CHARACTER SET utf8mb4 COLLATE utf8mb4_unicode_ci;\")"
   ]
  },
  {
   "cell_type": "code",
   "execution_count": 10,
   "metadata": {},
   "outputs": [],
   "source": [
    "mydb.commit()"
   ]
  },
  {
   "cell_type": "markdown",
   "metadata": {},
   "source": [
    "**check**"
   ]
  },
  {
   "cell_type": "code",
   "execution_count": 11,
   "metadata": {},
   "outputs": [
    {
     "data": {
      "text/plain": [
       "[('information_schema',),\n",
       " ('mysql',),\n",
       " ('performance_schema',),\n",
       " ('sys',),\n",
       " ('techdata',)]"
      ]
     },
     "execution_count": 11,
     "metadata": {},
     "output_type": "execute_result"
    }
   ],
   "source": [
    "mycursor.execute(\"SHOW DATABASES\")\n",
    "mycursor.fetchall()"
   ]
  },
  {
   "cell_type": "markdown",
   "metadata": {},
   "source": [
    "## Generate data"
   ]
  },
  {
   "cell_type": "code",
   "execution_count": 129,
   "metadata": {},
   "outputs": [],
   "source": [
    "mydb = mysql.connector.connect(\n",
    "  host=\"localhost\",\n",
    "  user=\"root\",\n",
    "  passwd=\"mandarinka\",\n",
    "  database=\"techdata\"\n",
    ")\n",
    "mycursor = mydb.cursor()"
   ]
  },
  {
   "cell_type": "code",
   "execution_count": 13,
   "metadata": {},
   "outputs": [],
   "source": [
    "mycursor.execute('CREATE TABLE hardware (\\\n",
    "id INT KEY AUTO_INCREMENT, id_char INT, out_date DATE, bought DATE, owner INT)')\n",
    "mydb.commit()"
   ]
  },
  {
   "cell_type": "code",
   "execution_count": 14,
   "metadata": {},
   "outputs": [],
   "source": [
    "mycursor.execute('CREATE TABLE type (\\\n",
    "id INT KEY AUTO_INCREMENT, htype TEXT, producer TEXT, model TEXT, charact TEXT, year INT)')\n",
    "mydb.commit()"
   ]
  },
  {
   "cell_type": "code",
   "execution_count": 15,
   "metadata": {},
   "outputs": [],
   "source": [
    "mycursor.execute('CREATE TABLE workers (\\\n",
    "id INT KEY AUTO_INCREMENT, name TEXT, department TEXT, position TEXT, birth DATE, office INT)')\n",
    "mydb.commit()"
   ]
  },
  {
   "cell_type": "code",
   "execution_count": 16,
   "metadata": {},
   "outputs": [
    {
     "data": {
      "text/plain": [
       "[('hardware',), ('type',), ('workers',)]"
      ]
     },
     "execution_count": 16,
     "metadata": {},
     "output_type": "execute_result"
    }
   ],
   "source": [
    "mycursor.execute('SHOW TABLES')\n",
    "mycursor.fetchall()"
   ]
  },
  {
   "cell_type": "code",
   "execution_count": 18,
   "metadata": {},
   "outputs": [],
   "source": [
    "import time\n",
    "import datetime\n",
    "import random\n",
    "\n",
    "def date_to_timestamp(d) :\n",
    "    return int(time.mktime(d.timetuple()))\n",
    "\n",
    "def randomDate(start, end):\n",
    "    \"\"\"Get a random date between two dates\"\"\"\n",
    "\n",
    "    stime = date_to_timestamp(start)\n",
    "    etime = date_to_timestamp(end)\n",
    "\n",
    "    ptime = stime + random.random() * (etime - stime)\n",
    "\n",
    "    return datetime.date.fromtimestamp(ptime)\n",
    "\n",
    "def names():\n",
    "    with open('names.txt','r', encoding='utf-8') as f:\n",
    "        for line in f:\n",
    "            yield line.strip()\n",
    "\n",
    "deps = ['машинный перевод', 'отдел кадров', 'веб-дизайн', 'бухгалтерия', 'реклама']\n",
    "positions = {'машинный перевод':['старший разработчик', 'младший разработчик', 'стажер'],\n",
    "             'отдел кадров':['рекрутер','старший специалист','аналитик'],\n",
    "             'веб-дизайн':['дизайнер','руководитель группы','разработчик'], \n",
    "             'бухгалтерия':['старший бухгалтер','бухгалтер','аудитор'],\n",
    "             'реклама':['старший аналитик','аналитик','оператор call-центра',\n",
    "                        'специалист по ТВ', 'специалист по соцсетям']}\n",
    "off = {'машинный перевод':[1,2,3,4,5],\n",
    "             'отдел кадров':[6,7,8,9],\n",
    "             'веб-дизайн':[10,11], \n",
    "             'бухгалтерия':[12,13],\n",
    "             'реклама':[14,15]}\n",
    "\n",
    "def department_position():\n",
    "    global deps, position\n",
    "    dep = random.choice(deps)\n",
    "    pos = random.choice(positions[dep])\n",
    "    offi = random.choice(off[dep])\n",
    "    return dep, pos, offi\n",
    "\n",
    "def fill_workers():\n",
    "    data = []\n",
    "    for name in names():\n",
    "        dep, pos, offi = department_position()\n",
    "        birth = randomDate(datetime.date(year=1930, month=1, day=1), datetime.date(year=2000, month=1, day=1))\n",
    "        data.append((name, dep, pos, str(birth), offi))\n",
    "    #return data\n",
    "    mycursor.executemany('INSERT INTO workers (name, department, position, birth, office) \\\n",
    "    VALUES (%s, %s, %s, %s, %s)', data)\n",
    "    mydb.commit()"
   ]
  },
  {
   "cell_type": "code",
   "execution_count": 19,
   "metadata": {},
   "outputs": [],
   "source": [
    "fill_workers()"
   ]
  },
  {
   "cell_type": "code",
   "execution_count": null,
   "metadata": {},
   "outputs": [],
   "source": [
    "mycursor.execute('SELECT * FROM workers')\n",
    "print (mycursor.fetchall())"
   ]
  },
  {
   "cell_type": "code",
   "execution_count": 21,
   "metadata": {},
   "outputs": [],
   "source": [
    "with open ('hardware.txt','r') as f:\n",
    "    data = [tuple(line.strip().split(',')+[]) for line in f.readlines()]"
   ]
  },
  {
   "cell_type": "code",
   "execution_count": 23,
   "metadata": {},
   "outputs": [],
   "source": [
    "def fill_types():\n",
    "    with open ('hardware.txt','r') as f:\n",
    "        data = [tuple(line.strip().split(',')+['характеристика', random.randint(2016, 2018)]) for line in f.readlines()]\n",
    "    mycursor.executemany('INSERT INTO type (htype, producer, model, charact, year) \\\n",
    "    VALUES (%s, %s, %s, %s, %s)', data)\n",
    "    mydb.commit()"
   ]
  },
  {
   "cell_type": "code",
   "execution_count": 24,
   "metadata": {},
   "outputs": [],
   "source": [
    "fill_types()"
   ]
  },
  {
   "cell_type": "code",
   "execution_count": 27,
   "metadata": {},
   "outputs": [
    {
     "data": {
      "text/plain": [
       "[(1, 'ноутбук', 'Lenovo', 'Yoga 370', 'характеристика', 2018),\n",
       " (2, 'ноутбук', 'Lenovo', 'X1 Extreme', 'характеристика', 2018),\n",
       " (3, 'ноутбук', 'Lenovo', 'X1 Carbon (6th)', 'характеристика', 2018),\n",
       " (4, 'ноутбук', 'Lenovo', 'X1 Carbon (5th Gen)', 'характеристика', 2018),\n",
       " (5, 'ноутбук', 'Lenovo', 'X1 Yoga (3rd Gen)', 'характеристика', 2016),\n",
       " (6, 'ноутбук', 'Lenovo', 'X1 Yoga (2nd Gen)', 'характеристика', 2017),\n",
       " (7, 'ноутбук', 'Lenovo', 'X380 Yoga', 'характеристика', 2018),\n",
       " (8, 'ноутбук', 'Lenovo', 'X280', 'характеристика', 2016),\n",
       " (9, 'ноутбук', 'Lenovo', 'X270', 'характеристика', 2016),\n",
       " (10, 'ноутбук', 'Lenovo', 'T580', 'характеристика', 2018),\n",
       " (11, 'ноутбук', 'Lenovo', 'T570', 'характеристика', 2018),\n",
       " (12, 'ноутбук', 'Lenovo', 'T480', 'характеристика', 2018),\n",
       " (13, 'ноутбук', 'Lenovo', 'T470p', 'характеристика', 2017),\n",
       " (14, 'ноутбук', 'Lenovo', 'T470', 'характеристика', 2018),\n",
       " (15, 'ноутбук', 'Lenovo', 'T480s', 'характеристика', 2016),\n",
       " (16, 'ноутбук', 'Lenovo', 'P1', 'характеристика', 2018),\n",
       " (17, 'ноутбук', 'Lenovo', 'P72', 'характеристика', 2017),\n",
       " (18, 'ноутбук', 'Lenovo', 'P71', 'характеристика', 2017),\n",
       " (19, 'ноутбук', 'Lenovo', 'P52', 'характеристика', 2016),\n",
       " (20, 'ноутбук', 'Lenovo', 'P52s', 'характеристика', 2018),\n",
       " (21, 'ноутбук', 'Lenovo', 'P51s', 'характеристика', 2018),\n",
       " (22, 'ноутбук', 'Lenovo', 'P50s', 'характеристика', 2017),\n",
       " (23, 'ноутбук', 'Lenovo', 'L580', 'характеристика', 2018),\n",
       " (24, 'ноутбук', 'Lenovo', 'L570', 'характеристика', 2018),\n",
       " (25, 'ноутбук', 'Lenovo', 'L470', 'характеристика', 2017),\n",
       " (26, 'ноутбук', 'Lenovo', 'L380', 'характеристика', 2018),\n",
       " (27, 'ноутбук', 'Lenovo', 'E585', 'характеристика', 2016),\n",
       " (28, 'ноутбук', 'Lenovo', 'E485', 'характеристика', 2018),\n",
       " (29, 'ноутбук', 'Lenovo', 'E570', 'характеристика', 2017),\n",
       " (30, 'МФУ', 'HP', 'Ink Tank 319', 'характеристика', 2017),\n",
       " (31, 'принтер', 'HP', 'LaserJet Pro M15w', 'характеристика', 2016),\n",
       " (32, 'МФУ', 'Canon', 'PIXMA TS3140', 'характеристика', 2016),\n",
       " (33, 'ноутбук', 'Apple', 'MacBook Air 13', 'характеристика', 2016),\n",
       " (34, 'ноутбук', 'Apple', 'MacPro 15', 'характеристика', 2016)]"
      ]
     },
     "execution_count": 27,
     "metadata": {},
     "output_type": "execute_result"
    }
   ],
   "source": [
    "mycursor.execute('SELECT * FROM type')\n",
    "mycursor.fetchall()"
   ]
  },
  {
   "cell_type": "code",
   "execution_count": 35,
   "metadata": {},
   "outputs": [],
   "source": [
    "def fill_hardware():\n",
    "    data = []\n",
    "    for _ in range(600):\n",
    "        #id_char INT, out_date DATE, bought DATE, owner INT\n",
    "        id_char = random.randint(1,34)\n",
    "        out_date = randomDate(datetime.date(year=2016, month=1, day=1), datetime.date(year=2018, month=11, day=18))\n",
    "        bought = randomDate(datetime.date(year=2016, month=1, day=1), out_date)\n",
    "        owner = random.randint(1,300)\n",
    "        data.append((id_char, out_date, bought, owner))\n",
    "        \n",
    "    mycursor.executemany('INSERT INTO hardware (id_char, out_date, bought, owner) \\\n",
    "    VALUES (%s, %s, %s, %s)', data)\n",
    "    mydb.commit()"
   ]
  },
  {
   "cell_type": "code",
   "execution_count": 36,
   "metadata": {},
   "outputs": [],
   "source": [
    "fill_hardware()"
   ]
  },
  {
   "cell_type": "code",
   "execution_count": 38,
   "metadata": {},
   "outputs": [
    {
     "data": {
      "text/plain": [
       "[(8, 31, datetime.date(2016, 6, 27), datetime.date(2016, 4, 28), 5),\n",
       " (26, 11, datetime.date(2017, 5, 19), datetime.date(2017, 1, 5), 5),\n",
       " (281, 3, datetime.date(2016, 11, 22), datetime.date(2016, 4, 23), 5),\n",
       " (398, 11, datetime.date(2018, 4, 23), datetime.date(2017, 7, 25), 5),\n",
       " (527, 3, datetime.date(2016, 11, 25), datetime.date(2016, 9, 20), 5)]"
      ]
     },
     "execution_count": 38,
     "metadata": {},
     "output_type": "execute_result"
    }
   ],
   "source": [
    "mycursor.execute('SELECT * FROM hardware WHERE owner=5')\n",
    "mycursor.fetchall()"
   ]
  },
  {
   "cell_type": "code",
   "execution_count": 80,
   "metadata": {},
   "outputs": [],
   "source": [
    "mycursor.execute('SELECT * FROM hardware INNER JOIN type ON hardware.id_char = type.id INNER JOIN workers ON workers.id=hardware.owner')\n",
    "#len(mycursor.fetchall())"
   ]
  },
  {
   "cell_type": "code",
   "execution_count": 181,
   "metadata": {
    "scrolled": true
   },
   "outputs": [
    {
     "name": "stdout",
     "output_type": "stream",
     "text": [
      "5.44 ms ± 590 µs per loop (mean ± std. dev. of 7 runs, 100 loops each)\n"
     ]
    }
   ],
   "source": [
    "%%timeit\n",
    "mycursor.execute('SELECT type.htype, type.producer, type.model, hardware.out_date, workers.name \\\n",
    "FROM type JOIN hardware ON type.id = hardware.id_char JOIN workers ON workers.id = hardware.owner WHERE hardware.out_date > \"2018-01-01\"')#' INNER JOIN workers ON workers.id = hardware.owner \\\n",
    "a = mycursor.fetchall()"
   ]
  },
  {
   "cell_type": "code",
   "execution_count": 218,
   "metadata": {},
   "outputs": [],
   "source": [
    "mycursor.execute('SELECT type.htype, type.producer, type.model, hardware.out_date, workers.name \\\n",
    "FROM type JOIN hardware ON type.id = hardware.id_char AND hardware.out_date > \"2018-01-01\" JOIN workers ON workers.id = hardware.owner')\n",
    "a = mycursor.fetchall()"
   ]
  },
  {
   "cell_type": "code",
   "execution_count": null,
   "metadata": {},
   "outputs": [],
   "source": [
    "a"
   ]
  },
  {
   "cell_type": "code",
   "execution_count": 185,
   "metadata": {},
   "outputs": [],
   "source": [
    "mydb = mysql.connector.connect(\n",
    "  host=\"localhost\",\n",
    "  user=\"root\",\n",
    "  passwd=\"mandarinka\",\n",
    "  database=\"techdata\"\n",
    ")\n",
    "mycursor = mydb.cursor()"
   ]
  },
  {
   "cell_type": "code",
   "execution_count": 183,
   "metadata": {},
   "outputs": [
    {
     "name": "stdout",
     "output_type": "stream",
     "text": [
      "CPU times: user 1.79 ms, sys: 257 µs, total: 2.05 ms\n",
      "Wall time: 104 ms\n"
     ]
    }
   ],
   "source": [
    "%time mycursor.execute('SELECT type.htype, type.producer, type.model FROM type')#' INNER JOIN workers ON workers.id = hardware.owner \\\n",
    "len(mycursor.fetchall())"
   ]
  },
  {
   "cell_type": "code",
   "execution_count": 193,
   "metadata": {},
   "outputs": [
    {
     "data": {
      "text/plain": [
       "[(3,\n",
       "  'Харькова Валерия Тимуровна',\n",
       "  'машинный перевод',\n",
       "  'стажер',\n",
       "  datetime.date(1968, 4, 25),\n",
       "  4),\n",
       " (17,\n",
       "  'Тимошкин Карл Онисимович',\n",
       "  'реклама',\n",
       "  'специалист по соцсетям',\n",
       "  datetime.date(1999, 5, 5),\n",
       "  14),\n",
       " (76,\n",
       "  'Кувардин Андриян Тимурович',\n",
       "  'машинный перевод',\n",
       "  'старший разработчик',\n",
       "  datetime.date(1988, 4, 27),\n",
       "  4),\n",
       " (102,\n",
       "  'Шигаев Тимур Матвеевич',\n",
       "  'бухгалтерия',\n",
       "  'старший бухгалтер',\n",
       "  datetime.date(1956, 7, 2),\n",
       "  12),\n",
       " (175,\n",
       "  'Полищука Марианна Тимуровна',\n",
       "  'отдел кадров',\n",
       "  'рекрутер',\n",
       "  datetime.date(1945, 2, 16),\n",
       "  7),\n",
       " (199,\n",
       "  'Нилов Тимур Андреевич',\n",
       "  'машинный перевод',\n",
       "  'старший разработчик',\n",
       "  datetime.date(1987, 2, 10),\n",
       "  4),\n",
       " (268,\n",
       "  'Кацен Тимур Аполлинариевич',\n",
       "  'отдел кадров',\n",
       "  'аналитик',\n",
       "  datetime.date(1989, 5, 19),\n",
       "  7),\n",
       " (276,\n",
       "  'Игнаткович Тимофей Сидорович',\n",
       "  'отдел кадров',\n",
       "  'рекрутер',\n",
       "  datetime.date(1984, 7, 1),\n",
       "  8)]"
      ]
     },
     "execution_count": 193,
     "metadata": {},
     "output_type": "execute_result"
    }
   ],
   "source": [
    "#%%time \n",
    "mycursor.execute('SELECT * FROM workers WHERE name LIKE \"%тим%\"')#' INNER JOIN workers ON workers.id = hardware.owner \\\n",
    "mycursor.fetchall()"
   ]
  },
  {
   "cell_type": "code",
   "execution_count": 262,
   "metadata": {},
   "outputs": [],
   "source": [
    "class DB:\n",
    "    \n",
    "    def __init__(self):\n",
    "        self.db = mysql.connector.connect(\n",
    "          host=\"localhost\",\n",
    "          user=\"root\",\n",
    "          passwd=\"mandarinka\",\n",
    "          database=\"techdata\"\n",
    "        )\n",
    "        self.cur = self.db.cursor()\n",
    "        \n",
    "    def create_worker(self, name, department, position, birth, office):\n",
    "        self.cur.execute('INSERT INTO workers (name, department, position, birth, office) \\\n",
    "    VALUES (%s, %s, %s, %s, %s)', [(name, department, position, birth, office)])\n",
    "        self.db.commit()\n",
    "    def update_worker(self, wid, name, department, position, birth, office):\n",
    "        self.cur.execute('UPDATE workers SET name = %s, department = %s, position = %s, birth = %s, office = %s WHERE id = %s', \n",
    "                         [(name, department, position, birth, office, wid)])\n",
    "        self.db.commit()\n",
    "    def remove_worker(self, wid):\n",
    "        self.cur.execute('DELETE * FROM workers WHERE id = %s', wid)\n",
    "        self.cur.execute('DELETE * FROM hardware WHERE owner = %s', wid)\n",
    "        self.db.commit()\n",
    "        \n",
    "    def create_type(self, htype, producer, model, charact, year):\n",
    "        self.cur.execute('INSERT INTO type (htype, producer, model, charact, year) \\\n",
    "    VALUES (%s, %s, %s, %s, %s)', [(htype, producer, model, charact, year)])\n",
    "        self.db.commit()        \n",
    "    def update_type(self, tid, name, department, position, birth, office):\n",
    "        self.cur.execute('UPDATE type SET htype = %s, producer = %s, model = %s, charact = %s, year = %s WHERE id = %s', \n",
    "                         [(htype, producer, model, charact, year, tid)])\n",
    "        self.db.commit() \n",
    "    def remove_type(self, wid):\n",
    "        self.cur.execute('DELETE * FROM type WHERE id = %s', wid)\n",
    "        self.cur.execute('DELETE * FROM hardware WHERE id_char = %s', wid)\n",
    "        self.db.commit()\n",
    "        \n",
    "    def create_hardware(self, id_char, out_date, bought, owner):\n",
    "        self.cur.execute('INSERT INTO hardware (id_char, out_date, bought, owner) \\\n",
    "    VALUES (%s, %s, %s, %s)', [(id_char, out_date, bought, owner)])\n",
    "        self.db.commit()\n",
    "    def update_hardware(self, tid, id_char, out_date, bought, owner):\n",
    "        self.cur.execute('UPDATE hardware SET id_char = %s, out_date = %s, bought = %s, owner = %s WHERE id = %s', \n",
    "                         [(id_char, out_date, bought, owner, tid)])\n",
    "        self.db.commit()\n",
    "    def remove_hardware(self, wid):\n",
    "        self.cur.execute('DELETE * FROM hardware WHERE id = %s', wid)\n",
    "        self.db.commit()\n",
    "        \n",
    "    def search(self, args):\n",
    "        query = []\n",
    "        check = []\n",
    "        columns = []\n",
    "        if 'use_htype' in args and args['use_htype'] == 'True':\n",
    "            if args['htype'] != '': \n",
    "                query.append('type.htype LIKE \\\"%{}%\\\"'.format(args['htype']))\n",
    "            check.append('type.htype')\n",
    "            columns.append('<b>Тип устройства</b>')\n",
    "        if 'use_producer' in args and args['use_producer'] == 'True':\n",
    "            if args['htype'] != '': \n",
    "                query.append('type.producer LIKE \\\"%{}%\\\"'.format(args['producer']))\n",
    "            check.append('type.producer')\n",
    "            columns.append('<b>Производитель</b>')\n",
    "        if 'use_model' in args and args['use_model'] == 'True':\n",
    "            if args['model'] != '': \n",
    "                query.append('type.model LIKE \\\"%{}%\\\"'.format(args['model']))\n",
    "            check.append('type.model')\n",
    "            columns.append('<b>Модель</b>')\n",
    "        if 'use_out_date' in args and args['use_out_date'] == 'True':\n",
    "            if args['out_date'] != '':\n",
    "                query.append('hardware.out_date = \\\"{}\\\"'.format(args['out_date']))\n",
    "            check.append('hardware.out_date')\n",
    "            columns.append('<b>Дата выдачи</b>')\n",
    "        if 'use_name' in args and args['use_name'] == 'True':\n",
    "            if args['name'] != '': \n",
    "                query.append('workers.name LIKE \\\"%{}%\\\"'.format(args['name']))\n",
    "            check.append('workers.name')\n",
    "            columns.append('<b>Имя</b>')\n",
    "        if 'use_department' in args and args['use_department'] == 'True':\n",
    "            if args['department'] != '': \n",
    "                query.append('workers.department LIKE \\\"%{}%\\\"'.format(args['department']))\n",
    "            check.append('workers.department')\n",
    "            columns.append('<b>Департамент</b>')\n",
    "        if 'use_position' in args and args['use_position'] == 'True':\n",
    "            if args['position'] != '': \n",
    "                query.append('workers.position LIKE \\\"%{}%\\\"'.format(args['position']))\n",
    "            check.append('workers.position')\n",
    "            columns.append('<b>Должность</b>')\n",
    "        \n",
    "        if 'use_office' in args and args['use_office'] == 'True':\n",
    "            if args['office'] != '': \n",
    "                query.append('workers.office={}'.format(args['office']))\n",
    "            check.append('workers.office')\n",
    "            columns.append('<b>Кабинет</b>')\n",
    "            \n",
    "        self.cur.execute('SELECT DISTINCT {} FROM type \\\n",
    "        JOIN hardware ON type.id = hardware.id_char \\\n",
    "        JOIN workers ON workers.id = hardware.owner \\\n",
    "        WHERE {}'.format(', '.join(check), ' AND '.join(query)))\n",
    "        data = [tuple(columns)]+self.cur.fetchall()\n",
    "        return data\n",
    "    \n",
    "    def search_workers(self, args):\n",
    "        pass\n",
    "    \n",
    "    def search_type(self, args):\n",
    "        pass\n",
    "    \n",
    "    def search_hard(self, args):\n",
    "        pass\n",
    "    \n",
    "    def prettify_search(self, data):\n",
    "        return '<table><tr><td>{} </td></tr></table>'.format(\n",
    "            '</td></tr><tr><td>'.join(\n",
    "                ['</td><td>'.join(str(x) for x in i) for i in data]\n",
    "            ))"
   ]
  },
  {
   "cell_type": "code",
   "execution_count": 263,
   "metadata": {},
   "outputs": [],
   "source": [
    "db = DB()"
   ]
  },
  {
   "cell_type": "code",
   "execution_count": 266,
   "metadata": {},
   "outputs": [],
   "source": [
    "query = {'use_position':'True','position':'разработчик'}#, \n",
    "         #'use_htype':'True', 'htype':'', \n",
    "         #'use_out_date':'True', 'out_date':'',\n",
    "         #'use_name':'True', 'name':'А'}"
   ]
  },
  {
   "cell_type": "code",
   "execution_count": 267,
   "metadata": {},
   "outputs": [
    {
     "data": {
      "text/plain": [
       "[('младший разработчик',), ('старший разработчик',), ('разработчик',)]"
      ]
     },
     "execution_count": 267,
     "metadata": {},
     "output_type": "execute_result"
    }
   ],
   "source": [
    "#db.prettify_search(db.search(query))\n",
    "db.search(query)"
   ]
  }
 ],
 "metadata": {
  "kernelspec": {
   "display_name": "Python 3",
   "language": "python",
   "name": "python3"
  },
  "language_info": {
   "codemirror_mode": {
    "name": "ipython",
    "version": 3
   },
   "file_extension": ".py",
   "mimetype": "text/x-python",
   "name": "python",
   "nbconvert_exporter": "python",
   "pygments_lexer": "ipython3",
   "version": "3.6.6"
  }
 },
 "nbformat": 4,
 "nbformat_minor": 2
}
