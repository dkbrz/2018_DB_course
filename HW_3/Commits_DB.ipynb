{
 "cells": [
  {
   "cell_type": "markdown",
   "metadata": {},
   "source": [
    "# База коммитов с гитхаба\n",
    "\n",
    "Основной код по обкачке лежит [здесь](https://github.com/dkbrz/Git_Commits/blob/master/Git.ipynb)"
   ]
  },
  {
   "cell_type": "code",
   "execution_count": 1,
   "metadata": {},
   "outputs": [],
   "source": [
    "from tqdm import tqdm_notebook as tqdm"
   ]
  },
  {
   "cell_type": "code",
   "execution_count": 2,
   "metadata": {},
   "outputs": [],
   "source": [
    "password = <password>"
   ]
  },
  {
   "cell_type": "markdown",
   "metadata": {},
   "source": [
    "## Помещение базы из sqlite-файла на локальный MySQL сервер\n",
    "\n",
    "**старая база**"
   ]
  },
  {
   "cell_type": "code",
   "execution_count": 2,
   "metadata": {},
   "outputs": [],
   "source": [
    "import sqlite3\n",
    "con = sqlite3.connect('/home/dkbrz/DB.db')\n",
    "cur = con.cursor()"
   ]
  },
  {
   "cell_type": "markdown",
   "metadata": {},
   "source": [
    "**новая база**"
   ]
  },
  {
   "cell_type": "code",
   "execution_count": 3,
   "metadata": {},
   "outputs": [],
   "source": [
    "import mysql.connector\n",
    "\n",
    "mydb = mysql.connector.connect(\n",
    "  host=\"localhost\",\n",
    "  user=\"root\",\n",
    "  passwd=password,\n",
    "  database=\"commits_db\",\n",
    "  charset='utf8mb4')\n",
    "\n",
    "mycursor = mydb.cursor()"
   ]
  },
  {
   "cell_type": "code",
   "execution_count": 4,
   "metadata": {},
   "outputs": [],
   "source": [
    "import codecs\n",
    "codecs.register(lambda name: codecs.lookup('utf8') if name == 'utf8mb4' else None)"
   ]
  },
  {
   "cell_type": "code",
   "execution_count": 5,
   "metadata": {},
   "outputs": [
    {
     "data": {
      "text/plain": [
       "[('character_set_client', 'utf8mb4'),\n",
       " ('character_set_connection', 'utf8mb4'),\n",
       " ('character_set_database', 'utf8mb4'),\n",
       " ('character_set_filesystem', 'binary'),\n",
       " ('character_set_results', 'utf8mb4'),\n",
       " ('character_set_server', 'latin1'),\n",
       " ('character_set_system', 'utf8'),\n",
       " ('collation_connection', 'utf8mb4_general_ci'),\n",
       " ('collation_database', 'utf8mb4_general_ci'),\n",
       " ('collation_server', 'latin1_swedish_ci')]"
      ]
     },
     "execution_count": 5,
     "metadata": {},
     "output_type": "execute_result"
    }
   ],
   "source": [
    "# проверка кодировок\n",
    "mycursor.execute('SHOW VARIABLES WHERE Variable_name LIKE \"character\\_set\\_%\" OR Variable_name LIKE \"collation%\";')\n",
    "mycursor.fetchall()"
   ]
  },
  {
   "cell_type": "markdown",
   "metadata": {},
   "source": [
    "**данные юзеров**"
   ]
  },
  {
   "cell_type": "code",
   "execution_count": 6,
   "metadata": {},
   "outputs": [],
   "source": [
    "cur.execute('SELECT * FROM U')\n",
    "data = cur.fetchall()"
   ]
  },
  {
   "cell_type": "code",
   "execution_count": 7,
   "metadata": {},
   "outputs": [
    {
     "data": {
      "text/plain": [
       "630193"
      ]
     },
     "execution_count": 7,
     "metadata": {},
     "output_type": "execute_result"
    }
   ],
   "source": [
    "len(data)"
   ]
  },
  {
   "cell_type": "code",
   "execution_count": 8,
   "metadata": {},
   "outputs": [
    {
     "data": {
      "text/plain": [
       "(49, 1180335, 'kachick', 'そのへん', 226, 91, None, 245, '2011-11-08 10:38:32')"
      ]
     },
     "execution_count": 8,
     "metadata": {},
     "output_type": "execute_result"
    }
   ],
   "source": [
    "data[48]"
   ]
  },
  {
   "cell_type": "code",
   "execution_count": 9,
   "metadata": {},
   "outputs": [],
   "source": [
    "mycursor.executemany('INSERT INTO U \\\n",
    "(id, gh_id, login, location, pub_repos, followers, private_repos,following, created_at) \\\n",
    "VALUES (%s,%s,%s,%s,%s,%s,%s,%s,%s)', data)"
   ]
  },
  {
   "cell_type": "code",
   "execution_count": 10,
   "metadata": {},
   "outputs": [],
   "source": [
    "mydb.commit()"
   ]
  },
  {
   "cell_type": "markdown",
   "metadata": {},
   "source": [
    "**данные репозиториев**"
   ]
  },
  {
   "cell_type": "code",
   "execution_count": 11,
   "metadata": {},
   "outputs": [],
   "source": [
    "cur.execute('SELECT * FROM R')\n",
    "data = cur.fetchall()"
   ]
  },
  {
   "cell_type": "code",
   "execution_count": 12,
   "metadata": {},
   "outputs": [
    {
     "data": {
      "text/plain": [
       "79422"
      ]
     },
     "execution_count": 12,
     "metadata": {},
     "output_type": "execute_result"
    }
   ],
   "source": [
    "len(data)"
   ]
  },
  {
   "cell_type": "code",
   "execution_count": 13,
   "metadata": {},
   "outputs": [],
   "source": [
    "mycursor.executemany('INSERT INTO R \\\n",
    "(id, gh_id, owner, name, language, ncommits, created_at,\\\n",
    "updated_at, size, stars, subs, watchers, network_count, has_wiki,\\\n",
    "languages_url) \\\n",
    "VALUES (%s,%s,%s,%s,%s,%s,%s,%s,%s,%s,%s,%s,%s,%s,%s)', data)"
   ]
  },
  {
   "cell_type": "code",
   "execution_count": 14,
   "metadata": {},
   "outputs": [],
   "source": [
    "mydb.commit()"
   ]
  },
  {
   "cell_type": "markdown",
   "metadata": {},
   "source": [
    "**данные коммитов**"
   ]
  },
  {
   "cell_type": "code",
   "execution_count": 15,
   "metadata": {},
   "outputs": [
    {
     "data": {
      "text/plain": [
       "<sqlite3.Cursor at 0x7f30c82fb650>"
      ]
     },
     "execution_count": 15,
     "metadata": {},
     "output_type": "execute_result"
    }
   ],
   "source": [
    "cur.execute('SELECT * FROM C')"
   ]
  },
  {
   "cell_type": "code",
   "execution_count": 16,
   "metadata": {
    "scrolled": false
   },
   "outputs": [
    {
     "name": "stdout",
     "output_type": "stream",
     "text": [
      "||||||||||||||||||||||||||||||||||||||||||||||||||||||||||||||||||||||||||"
     ]
    }
   ],
   "source": [
    "stop = False\n",
    "data = cur.fetchmany(100000)\n",
    "k = 0\n",
    "while not stop:\n",
    "    mycursor.executemany('INSERT INTO C \\\n",
    "    (id, user, repo_id, text, date) \\\n",
    "    VALUES (%s,%s,%s,%s,%s)', data)\n",
    "    k += 1\n",
    "    if k % 10 == 0: print ('|', end='')\n",
    "    mydb.commit()\n",
    "    data = cur.fetchmany(100000)\n",
    "    if len(data) == 0:\n",
    "        stop = True"
   ]
  },
  {
   "cell_type": "markdown",
   "metadata": {},
   "source": [
    "## Индексы\n",
    "\n",
    "Для более быстрого поиска нужны несколько индексов\n",
    "\n",
    "1. С: text, repo_id, user, date\n",
    "2. U: login\n",
    "3. R: "
   ]
  },
  {
   "cell_type": "markdown",
   "metadata": {},
   "source": [
    "## Что делать с базой\n",
    "\n",
    "### Часть 1. Функция типа apply в pandas. Вариант линейный"
   ]
  },
  {
   "cell_type": "code",
   "execution_count": 6,
   "metadata": {},
   "outputs": [],
   "source": [
    "mydb2 = mysql.connector.connect(\n",
    "  host=\"localhost\",\n",
    "  user=\"root\",\n",
    "  passwd=password,\n",
    "  database=\"commits_db\",\n",
    "  charset='utf8mb4')\n",
    "\n",
    "updatecursor = mydb2.cursor()"
   ]
  },
  {
   "cell_type": "code",
   "execution_count": 7,
   "metadata": {},
   "outputs": [],
   "source": [
    "n_rows = {'C': 74352960, 'R': 79422, 'U':630193}"
   ]
  },
  {
   "cell_type": "code",
   "execution_count": 8,
   "metadata": {},
   "outputs": [],
   "source": [
    "def apply(table, source, target, function, k=10000, start=0):\n",
    "    global mydb, mycursor, updatecursor, n_rows\n",
    "    n = n_rows[table]\n",
    "    update = 'UPDATE {} SET {}=%s WHERE id=%s'.format(table, target)     \n",
    "    cur = start\n",
    "    for _ in tqdm(range(start, n, k)):\n",
    "        \n",
    "        request = 'SELECT id, {} FROM {} WHERE id >= {} AND id < {}'.format(source, table, cur, cur + k)\n",
    "        mycursor.execute(request)\n",
    "        data = mycursor.fetchall()\n",
    "        result = []\n",
    "        \n",
    "        for i in tqdm(data, leave=False, desc=str(cur)):\n",
    "            result.append(tuple([function(i[1]), i[0]]))\n",
    "        updatecursor.executemany(update, result)\n",
    "        mydb2.commit()\n",
    "        \n",
    "        cur += k"
   ]
  },
  {
   "cell_type": "code",
   "execution_count": null,
   "metadata": {},
   "outputs": [],
   "source": [
    "%%time \n",
    "apply('C', 'text', 'len_char', len, k=100, start=0)\n",
    "#16682000"
   ]
  },
  {
   "cell_type": "code",
   "execution_count": 10,
   "metadata": {},
   "outputs": [],
   "source": [
    "def len_words(text):\n",
    "    return len(text.split())"
   ]
  },
  {
   "cell_type": "code",
   "execution_count": null,
   "metadata": {},
   "outputs": [],
   "source": [
    "apply('C', 'text', 'len_word', len_words, k=100, start=0)"
   ]
  },
  {
   "cell_type": "code",
   "execution_count": 9,
   "metadata": {},
   "outputs": [],
   "source": [
    "import matplotlib.pyplot as plt\n",
    "%matplotlib inline"
   ]
  },
  {
   "cell_type": "code",
   "execution_count": 10,
   "metadata": {},
   "outputs": [],
   "source": [
    "import pandas as pd"
   ]
  },
  {
   "cell_type": "code",
   "execution_count": 11,
   "metadata": {},
   "outputs": [],
   "source": [
    "def len_description(start=0, stop=200000):\n",
    "    mycursor.execute('SELECT len_word, len_char FROM C WHERE id >= {} AND id <= {}'.format(start, stop))\n",
    "    data = pd.DataFrame(mycursor.fetchall())\n",
    "    data.columns = ['len_word','len_char']\n",
    "    return data"
   ]
  },
  {
   "cell_type": "code",
   "execution_count": 12,
   "metadata": {},
   "outputs": [],
   "source": [
    "data = len_description()"
   ]
  },
  {
   "cell_type": "code",
   "execution_count": 13,
   "metadata": {},
   "outputs": [
    {
     "data": {
      "text/html": [
       "<div>\n",
       "<style scoped>\n",
       "    .dataframe tbody tr th:only-of-type {\n",
       "        vertical-align: middle;\n",
       "    }\n",
       "\n",
       "    .dataframe tbody tr th {\n",
       "        vertical-align: top;\n",
       "    }\n",
       "\n",
       "    .dataframe thead th {\n",
       "        text-align: right;\n",
       "    }\n",
       "</style>\n",
       "<table border=\"1\" class=\"dataframe\">\n",
       "  <thead>\n",
       "    <tr style=\"text-align: right;\">\n",
       "      <th></th>\n",
       "      <th>len_word</th>\n",
       "      <th>len_char</th>\n",
       "    </tr>\n",
       "  </thead>\n",
       "  <tbody>\n",
       "    <tr>\n",
       "      <th>0</th>\n",
       "      <td>11</td>\n",
       "      <td>84</td>\n",
       "    </tr>\n",
       "    <tr>\n",
       "      <th>1</th>\n",
       "      <td>2</td>\n",
       "      <td>14</td>\n",
       "    </tr>\n",
       "    <tr>\n",
       "      <th>2</th>\n",
       "      <td>34</td>\n",
       "      <td>203</td>\n",
       "    </tr>\n",
       "    <tr>\n",
       "      <th>3</th>\n",
       "      <td>9</td>\n",
       "      <td>78</td>\n",
       "    </tr>\n",
       "    <tr>\n",
       "      <th>4</th>\n",
       "      <td>142</td>\n",
       "      <td>822</td>\n",
       "    </tr>\n",
       "  </tbody>\n",
       "</table>\n",
       "</div>"
      ],
      "text/plain": [
       "   len_word  len_char\n",
       "0        11        84\n",
       "1         2        14\n",
       "2        34       203\n",
       "3         9        78\n",
       "4       142       822"
      ]
     },
     "execution_count": 13,
     "metadata": {},
     "output_type": "execute_result"
    }
   ],
   "source": [
    "data.head()"
   ]
  },
  {
   "cell_type": "code",
   "execution_count": 19,
   "metadata": {},
   "outputs": [
    {
     "data": {
      "text/plain": [
       "(0, 30000)"
      ]
     },
     "execution_count": 19,
     "metadata": {},
     "output_type": "execute_result"
    },
    {
     "data": {
      "image/png": "[encoded data removed]",
      "text/plain": [
       "<Figure size 432x288 with 1 Axes>"
      ]
     },
     "metadata": {
      "needs_background": "light"
     },
     "output_type": "display_data"
    }
   ],
   "source": [
    "data.plot.scatter('len_word', 'len_char')\n",
    "plt.xlim((0, 3000))\n",
    "plt.ylim((0, 30000))"
   ]
  },
  {
   "cell_type": "code",
   "execution_count": 21,
   "metadata": {},
   "outputs": [
    {
     "data": {
      "text/html": [
       "<div>\n",
       "<style scoped>\n",
       "    .dataframe tbody tr th:only-of-type {\n",
       "        vertical-align: middle;\n",
       "    }\n",
       "\n",
       "    .dataframe tbody tr th {\n",
       "        vertical-align: top;\n",
       "    }\n",
       "\n",
       "    .dataframe thead th {\n",
       "        text-align: right;\n",
       "    }\n",
       "</style>\n",
       "<table border=\"1\" class=\"dataframe\">\n",
       "  <thead>\n",
       "    <tr style=\"text-align: right;\">\n",
       "      <th></th>\n",
       "      <th>len_word</th>\n",
       "      <th>len_char</th>\n",
       "    </tr>\n",
       "  </thead>\n",
       "  <tbody>\n",
       "    <tr>\n",
       "      <th>len_word</th>\n",
       "      <td>1.000000</td>\n",
       "      <td>0.958559</td>\n",
       "    </tr>\n",
       "    <tr>\n",
       "      <th>len_char</th>\n",
       "      <td>0.958559</td>\n",
       "      <td>1.000000</td>\n",
       "    </tr>\n",
       "  </tbody>\n",
       "</table>\n",
       "</div>"
      ],
      "text/plain": [
       "          len_word  len_char\n",
       "len_word  1.000000  0.958559\n",
       "len_char  0.958559  1.000000"
      ]
     },
     "execution_count": 21,
     "metadata": {},
     "output_type": "execute_result"
    }
   ],
   "source": [
    "data.corr()"
   ]
  },
  {
   "cell_type": "code",
   "execution_count": 3,
   "metadata": {},
   "outputs": [],
   "source": [
    "from funcs import *\n",
    "\n",
    "UD = Model('./english-ud-2.1-20180111.udpipe')\n",
    "\n",
    "def conllu(text):\n",
    "        #text = ' '.join(tknzr.tokenize(text))\n",
    "        sentences = UD.tokenize(text)\n",
    "        for s in sentences:\n",
    "            UD.tag(s)\n",
    "            UD.parse(s)\n",
    "        conllu = UD.write(sentences, \"conllu\")\n",
    "        return conllu"
   ]
  },
  {
   "cell_type": "code",
   "execution_count": 10,
   "metadata": {},
   "outputs": [],
   "source": [
    "#from nltk.tokenize import TweetTokenizer\n",
    "#tknzr = TweetTokenizer()"
   ]
  },
  {
   "cell_type": "code",
   "execution_count": 13,
   "metadata": {},
   "outputs": [
    {
     "name": "stdout",
     "output_type": "stream",
     "text": [
      "# newdoc\n",
      "# newpar\n",
      "# sent_id = 1\n",
      "# text = I like :))\n",
      "1\tI\tI\tPRON\tPRP\tCase=Nom|Number=Sing|Person=1|PronType=Prs\t2\tnsubj\t_\t_\n",
      "2\tlike\tlike\tVERB\tVBP\tMood=Ind|Tense=Pres|VerbForm=Fin\t0\troot\t_\t_\n",
      "3\t:)\t:)\tSYM\tNFP\t_\t2\tdiscourse\t_\tSpaceAfter=No\n",
      "4\t)\t)\tPUNCT\t-RRB-\t_\t2\tpunct\t_\t_\n",
      "\n",
      "# sent_id = 2\n",
      "# text = http://web.com\n",
      "1\thttp://web.com\thttp://web.com\tX\tADD\t_\t0\troot\t_\tSpaceAfter=No\n",
      "\n",
      "\n"
     ]
    }
   ],
   "source": [
    "print(conllu('I like :)) http://web.com'))"
   ]
  },
  {
   "cell_type": "code",
   "execution_count": null,
   "metadata": {},
   "outputs": [],
   "source": [
    "%%time \n",
    "apply('C', 'text', 'conllu', conllu, k=1000, start=16682000)\n",
    "#16682000"
   ]
  },
  {
   "cell_type": "markdown",
   "metadata": {},
   "source": [
    "Всё работает, но очень долго"
   ]
  },
  {
   "cell_type": "markdown",
   "metadata": {},
   "source": [
    "## Статистика (в процессе)"
   ]
  },
  {
   "cell_type": "code",
   "execution_count": 6,
   "metadata": {},
   "outputs": [],
   "source": [
    "import matplotlib.pyplot as plt\n",
    "%matplotlib inline\n",
    "\n",
    "import pandas as pd"
   ]
  },
  {
   "cell_type": "code",
   "execution_count": 22,
   "metadata": {},
   "outputs": [],
   "source": [
    "def language_stat():\n",
    "    mycursor.execute('SELECT count(language), language, LEFT(created_at, 4) \\\n",
    "FROM R GROUP BY language, LEFT(created_at, 4) ORDER BY language, LEFT(created_at, 4)')\n",
    "    df = pd.DataFrame(mycursor.fetchall())\n",
    "    df.columns = ['n', 'lang', 'year']\n",
    "    return df"
   ]
  },
  {
   "cell_type": "code",
   "execution_count": 28,
   "metadata": {},
   "outputs": [],
   "source": [
    "df = language_stat()"
   ]
  },
  {
   "cell_type": "code",
   "execution_count": 29,
   "metadata": {},
   "outputs": [
    {
     "data": {
      "text/html": [
       "<div>\n",
       "<style scoped>\n",
       "    .dataframe tbody tr th:only-of-type {\n",
       "        vertical-align: middle;\n",
       "    }\n",
       "\n",
       "    .dataframe tbody tr th {\n",
       "        vertical-align: top;\n",
       "    }\n",
       "\n",
       "    .dataframe thead th {\n",
       "        text-align: right;\n",
       "    }\n",
       "</style>\n",
       "<table border=\"1\" class=\"dataframe\">\n",
       "  <thead>\n",
       "    <tr style=\"text-align: right;\">\n",
       "      <th></th>\n",
       "      <th>n</th>\n",
       "      <th>lang</th>\n",
       "      <th>year</th>\n",
       "    </tr>\n",
       "  </thead>\n",
       "  <tbody>\n",
       "    <tr>\n",
       "      <th>926</th>\n",
       "      <td>1</td>\n",
       "      <td>Yacc</td>\n",
       "      <td>2015</td>\n",
       "    </tr>\n",
       "    <tr>\n",
       "      <th>927</th>\n",
       "      <td>1</td>\n",
       "      <td>YARA</td>\n",
       "      <td>2014</td>\n",
       "    </tr>\n",
       "    <tr>\n",
       "      <th>928</th>\n",
       "      <td>1</td>\n",
       "      <td>YARA</td>\n",
       "      <td>2015</td>\n",
       "    </tr>\n",
       "    <tr>\n",
       "      <th>929</th>\n",
       "      <td>2</td>\n",
       "      <td>YARA</td>\n",
       "      <td>2016</td>\n",
       "    </tr>\n",
       "    <tr>\n",
       "      <th>930</th>\n",
       "      <td>1</td>\n",
       "      <td>YASnippet</td>\n",
       "      <td>2010</td>\n",
       "    </tr>\n",
       "  </tbody>\n",
       "</table>\n",
       "</div>"
      ],
      "text/plain": [
       "     n       lang  year\n",
       "926  1       Yacc  2015\n",
       "927  1       YARA  2014\n",
       "928  1       YARA  2015\n",
       "929  2       YARA  2016\n",
       "930  1  YASnippet  2010"
      ]
     },
     "execution_count": 29,
     "metadata": {},
     "output_type": "execute_result"
    }
   ],
   "source": [
    "df.tail()"
   ]
  },
  {
   "cell_type": "code",
   "execution_count": 38,
   "metadata": {},
   "outputs": [
    {
     "data": {
      "text/html": [
       "<div>\n",
       "<style scoped>\n",
       "    .dataframe tbody tr th:only-of-type {\n",
       "        vertical-align: middle;\n",
       "    }\n",
       "\n",
       "    .dataframe tbody tr th {\n",
       "        vertical-align: top;\n",
       "    }\n",
       "\n",
       "    .dataframe thead th {\n",
       "        text-align: right;\n",
       "    }\n",
       "</style>\n",
       "<table border=\"1\" class=\"dataframe\">\n",
       "  <thead>\n",
       "    <tr style=\"text-align: right;\">\n",
       "      <th></th>\n",
       "      <th>n</th>\n",
       "    </tr>\n",
       "    <tr>\n",
       "      <th>lang</th>\n",
       "      <th></th>\n",
       "    </tr>\n",
       "  </thead>\n",
       "  <tbody>\n",
       "    <tr>\n",
       "      <th>JavaScript</th>\n",
       "      <td>17480</td>\n",
       "    </tr>\n",
       "    <tr>\n",
       "      <th>Python</th>\n",
       "      <td>8689</td>\n",
       "    </tr>\n",
       "    <tr>\n",
       "      <th>Java</th>\n",
       "      <td>8357</td>\n",
       "    </tr>\n",
       "    <tr>\n",
       "      <th>Objective-C</th>\n",
       "      <td>3890</td>\n",
       "    </tr>\n",
       "    <tr>\n",
       "      <th>PHP</th>\n",
       "      <td>3540</td>\n",
       "    </tr>\n",
       "    <tr>\n",
       "      <th>Go</th>\n",
       "      <td>3496</td>\n",
       "    </tr>\n",
       "    <tr>\n",
       "      <th>C++</th>\n",
       "      <td>3449</td>\n",
       "    </tr>\n",
       "    <tr>\n",
       "      <th>Ruby</th>\n",
       "      <td>3379</td>\n",
       "    </tr>\n",
       "    <tr>\n",
       "      <th>C</th>\n",
       "      <td>3202</td>\n",
       "    </tr>\n",
       "    <tr>\n",
       "      <th>Swift</th>\n",
       "      <td>2222</td>\n",
       "    </tr>\n",
       "  </tbody>\n",
       "</table>\n",
       "</div>"
      ],
      "text/plain": [
       "                 n\n",
       "lang              \n",
       "JavaScript   17480\n",
       "Python        8689\n",
       "Java          8357\n",
       "Objective-C   3890\n",
       "PHP           3540\n",
       "Go            3496\n",
       "C++           3449\n",
       "Ruby          3379\n",
       "C             3202\n",
       "Swift         2222"
      ]
     },
     "execution_count": 38,
     "metadata": {},
     "output_type": "execute_result"
    }
   ],
   "source": [
    "df.groupby('lang').sum().sort_values('n', ascending=False).head(10)"
   ]
  },
  {
   "cell_type": "code",
   "execution_count": 39,
   "metadata": {},
   "outputs": [
    {
     "data": {
      "text/plain": [
       "[2007, 2008, 2009, 2010, 2011, 2012, 2013, 2014, 2015, 2016, 2017, 2018]"
      ]
     },
     "execution_count": 39,
     "metadata": {},
     "output_type": "execute_result"
    }
   ],
   "source": [
    "x = list(range(2007, 2019))\n",
    "x"
   ]
  },
  {
   "cell_type": "code",
   "execution_count": 31,
   "metadata": {},
   "outputs": [],
   "source": [
    "import numpy as np"
   ]
  },
  {
   "cell_type": "code",
   "execution_count": 79,
   "metadata": {},
   "outputs": [
    {
     "data": {
      "text/plain": [
       "Text(0.5, 1.0, 'Number of repositories')"
      ]
     },
     "execution_count": 79,
     "metadata": {},
     "output_type": "execute_result"
    },
    {
     "data": {
      "image/png": "[encoded data removed]",
      "text/plain": [
       "<Figure size 720x360 with 1 Axes>"
      ]
     },
     "metadata": {
      "needs_background": "light"
     },
     "output_type": "display_data"
    }
   ],
   "source": [
    "d = [df[df.lang=='Python'].values, df[df.lang=='JavaScript'].values, df[df.lang=='Ruby'].values, df[df.lang=='C++'].values]\n",
    "y = np.zeros((len(d), len (x))).tolist()\n",
    "\n",
    "for key, i in enumerate(d):\n",
    "    for j in i:\n",
    "        y[key][int(j[2])-2007] = j[0]\n",
    "\n",
    "labels = ['Python', 'JS', 'Ruby', 'C++']\n",
    "\n",
    "plt.figure(figsize=(10, 5))\n",
    "for key, i in enumerate(y):\n",
    "    plt.plot(x, i, label=labels[key])\n",
    "plt.legend()\n",
    "plt.title('Number of repositories')"
   ]
  },
  {
   "cell_type": "markdown",
   "metadata": {},
   "source": [
    "# Параллелизация (пока не получилось)"
   ]
  },
  {
   "cell_type": "markdown",
   "metadata": {},
   "source": [
    "## <Это первый вариант, не актуально>"
   ]
  },
  {
   "cell_type": "code",
   "execution_count": null,
   "metadata": {},
   "outputs": [],
   "source": [
    "import os\n",
    "import ipyparallel as ipp\n",
    "\n",
    "rc = ipp.Client()"
   ]
  },
  {
   "cell_type": "code",
   "execution_count": 11,
   "metadata": {},
   "outputs": [
    {
     "data": {
      "text/plain": [
       "3313"
      ]
     },
     "execution_count": 11,
     "metadata": {},
     "output_type": "execute_result"
    }
   ],
   "source": [
    "os.getpid()"
   ]
  },
  {
   "cell_type": "code",
   "execution_count": 12,
   "metadata": {},
   "outputs": [],
   "source": [
    "ar = rc[:].apply_async(os.getpid)\n",
    "pid_map = ar.get_dict()"
   ]
  },
  {
   "cell_type": "code",
   "execution_count": 14,
   "metadata": {},
   "outputs": [
    {
     "data": {
      "text/plain": [
       "{0: 3404, 1: 3406, 2: 3410, 3: 3421, 4: 3430, 5: 3434, 6: 3444}"
      ]
     },
     "execution_count": 14,
     "metadata": {},
     "output_type": "execute_result"
    }
   ],
   "source": [
    "pid_map"
   ]
  },
  {
   "cell_type": "code",
   "execution_count": 16,
   "metadata": {},
   "outputs": [],
   "source": [
    "import numpy as np"
   ]
  },
  {
   "cell_type": "code",
   "execution_count": 42,
   "metadata": {},
   "outputs": [],
   "source": [
    "def rd():\n",
    "    import numpy as np\n",
    "    print (np.random.choice([0,1,2,3,4,5,6]))"
   ]
  },
  {
   "cell_type": "code",
   "execution_count": null,
   "metadata": {},
   "outputs": [],
   "source": []
  },
  {
   "cell_type": "code",
   "execution_count": 43,
   "metadata": {},
   "outputs": [
    {
     "name": "stdout",
     "output_type": "stream",
     "text": [
      "<class 'tuple'>\n",
      "<class 'tuple'>\n",
      "<class 'tuple'>\n",
      "<class 'tuple'>\n"
     ]
    },
    {
     "data": {
      "application/vnd.jupyter.widget-view+json": {
       "model_id": "aa7ae5a1c8f9424c963a7714af331333",
       "version_major": 2,
       "version_minor": 0
      },
      "text/plain": [
       "HBox(children=(IntProgress(value=0, max=4), HTML(value='')))"
      ]
     },
     "metadata": {},
     "output_type": "display_data"
    },
    {
     "name": "stdout",
     "output_type": "stream",
     "text": [
      "\n",
      "CPU times: user 47.8 ms, sys: 16.3 ms, total: 64.2 ms\n",
      "Wall time: 2.12 s\n"
     ]
    }
   ],
   "source": [
    "%%time \n",
    "from multiprocessing import Pool\n",
    "import tqdm\n",
    "import time\n",
    "from IPython.display import clear_output\n",
    "clear_output()\n",
    "\n",
    "def _foo(*my_number):\n",
    "    print (type(my_number))\n",
    "    square = my_number[0] * my_number[0]\n",
    "    time.sleep(1)\n",
    "    #clear_output()\n",
    "    #print (square)\n",
    "    #clear_output()\n",
    "    return square \n",
    "\n",
    "if __name__ == '__main__':\n",
    "    with Pool(2) as p:\n",
    "        args = [[3,4], (4,5), (5,5), (6,5)]\n",
    "        #for i in tqdm.tqdm_notebook(p.imap(_foo, range(33)), total=33):\n",
    "        for i in tqdm.tqdm_notebook(p.starmap(_foo, args), total=len(args)):\n",
    "            #print (i)\n",
    "            #clear_output()\n",
    "            #print (i)\n",
    "            #clear_output()\n",
    "            pass"
   ]
  },
  {
   "cell_type": "code",
   "execution_count": null,
   "metadata": {},
   "outputs": [],
   "source": [
    "%%time \n",
    "from multiprocessing import Pool\n",
    "import tqdm\n",
    "import time\n",
    "from IPython.display import clear_output\n",
    "clear_output()\n",
    "\n",
    "def _foo(my_number):\n",
    "    square = my_number * my_number\n",
    "    time.sleep(1)\n",
    "    print (square)\n",
    "    clear_output()\n",
    "    return square \n",
    "\n",
    "if __name__ == '__main__':\n",
    "    with Pool(2) as p:\n",
    "        args = [()]\n",
    "        for i in tqdm.tqdm(p.imap(_foo, range(30)), total=30):\n",
    "            #print (i)\n",
    "            #clear_output()\n",
    "            print (i)\n",
    "            #clear_output()"
   ]
  },
  {
   "cell_type": "code",
   "execution_count": 27,
   "metadata": {},
   "outputs": [
    {
     "name": "stderr",
     "output_type": "stream",
     "text": [
      "Process ForkPoolWorker-202:\n",
      "Process ForkPoolWorker-204:\n",
      "Process ForkPoolWorker-203:\n",
      "Process ForkPoolWorker-201:\n",
      "Process ForkPoolWorker-206:\n",
      "Process ForkPoolWorker-208:\n",
      "Process ForkPoolWorker-205:\n",
      "Process ForkPoolWorker-207:\n",
      "Traceback (most recent call last):\n",
      "Traceback (most recent call last):\n",
      "Traceback (most recent call last):\n",
      "Traceback (most recent call last):\n",
      "  File \"/usr/lib/python3.6/multiprocessing/process.py\", line 258, in _bootstrap\n",
      "    self.run()\n",
      "Traceback (most recent call last):\n",
      "Traceback (most recent call last):\n",
      "  File \"/usr/lib/python3.6/multiprocessing/process.py\", line 258, in _bootstrap\n",
      "    self.run()\n",
      "  File \"/usr/lib/python3.6/multiprocessing/process.py\", line 258, in _bootstrap\n",
      "    self.run()\n",
      "Traceback (most recent call last):\n",
      "  File \"/usr/lib/python3.6/multiprocessing/process.py\", line 258, in _bootstrap\n",
      "    self.run()\n",
      "  File \"/usr/lib/python3.6/multiprocessing/process.py\", line 258, in _bootstrap\n",
      "    self.run()\n",
      "  File \"/usr/lib/python3.6/multiprocessing/process.py\", line 93, in run\n",
      "    self._target(*self._args, **self._kwargs)\n",
      "  File \"/usr/lib/python3.6/multiprocessing/process.py\", line 93, in run\n",
      "    self._target(*self._args, **self._kwargs)\n",
      "  File \"/usr/lib/python3.6/multiprocessing/process.py\", line 258, in _bootstrap\n",
      "    self.run()\n",
      "  File \"/usr/lib/python3.6/multiprocessing/process.py\", line 93, in run\n",
      "    self._target(*self._args, **self._kwargs)\n",
      "  File \"/usr/lib/python3.6/multiprocessing/process.py\", line 258, in _bootstrap\n",
      "    self.run()\n",
      "  File \"/usr/lib/python3.6/multiprocessing/pool.py\", line 108, in worker\n",
      "    task = get()\n",
      "  File \"/usr/lib/python3.6/multiprocessing/process.py\", line 93, in run\n",
      "    self._target(*self._args, **self._kwargs)\n",
      "  File \"/usr/lib/python3.6/multiprocessing/process.py\", line 93, in run\n",
      "    self._target(*self._args, **self._kwargs)\n",
      "  File \"/usr/lib/python3.6/multiprocessing/process.py\", line 93, in run\n",
      "    self._target(*self._args, **self._kwargs)\n",
      "  File \"/usr/lib/python3.6/multiprocessing/queues.py\", line 334, in get\n",
      "    with self._rlock:\n",
      "  File \"/usr/lib/python3.6/multiprocessing/pool.py\", line 108, in worker\n",
      "    task = get()\n",
      "  File \"/usr/lib/python3.6/multiprocessing/pool.py\", line 108, in worker\n",
      "    task = get()\n",
      "  File \"/usr/lib/python3.6/multiprocessing/pool.py\", line 108, in worker\n",
      "    task = get()\n",
      "  File \"/usr/lib/python3.6/multiprocessing/queues.py\", line 334, in get\n",
      "    with self._rlock:\n",
      "  File \"/usr/lib/python3.6/multiprocessing/process.py\", line 93, in run\n",
      "    self._target(*self._args, **self._kwargs)\n",
      "  File \"/usr/lib/python3.6/multiprocessing/pool.py\", line 108, in worker\n",
      "    task = get()\n",
      "  File \"/usr/lib/python3.6/multiprocessing/queues.py\", line 334, in get\n",
      "    with self._rlock:\n",
      "  File \"/usr/lib/python3.6/multiprocessing/pool.py\", line 108, in worker\n",
      "    task = get()\n",
      "  File \"/usr/lib/python3.6/multiprocessing/queues.py\", line 334, in get\n",
      "    with self._rlock:\n",
      "  File \"/usr/lib/python3.6/multiprocessing/queues.py\", line 334, in get\n",
      "    with self._rlock:\n",
      "  File \"/usr/lib/python3.6/multiprocessing/synchronize.py\", line 96, in __enter__\n",
      "    return self._semlock.__enter__()\n",
      "  File \"/usr/lib/python3.6/multiprocessing/synchronize.py\", line 96, in __enter__\n",
      "    return self._semlock.__enter__()\n",
      "  File \"/usr/lib/python3.6/multiprocessing/synchronize.py\", line 96, in __enter__\n",
      "    return self._semlock.__enter__()\n",
      "  File \"/usr/lib/python3.6/multiprocessing/synchronize.py\", line 96, in __enter__\n",
      "    return self._semlock.__enter__()\n",
      "  File \"/usr/lib/python3.6/multiprocessing/synchronize.py\", line 96, in __enter__\n",
      "    return self._semlock.__enter__()\n",
      "KeyboardInterrupt\n",
      "KeyboardInterrupt\n",
      "KeyboardInterrupt\n",
      "KeyboardInterrupt\n",
      "KeyboardInterrupt\n",
      "  File \"/usr/lib/python3.6/multiprocessing/pool.py\", line 108, in worker\n",
      "    task = get()\n",
      "  File \"/usr/lib/python3.6/multiprocessing/queues.py\", line 334, in get\n",
      "    with self._rlock:\n",
      "  File \"/usr/lib/python3.6/multiprocessing/queues.py\", line 334, in get\n",
      "    with self._rlock:\n",
      "  File \"/usr/lib/python3.6/multiprocessing/synchronize.py\", line 96, in __enter__\n",
      "    return self._semlock.__enter__()\n",
      "  File \"/usr/lib/python3.6/multiprocessing/synchronize.py\", line 96, in __enter__\n",
      "    return self._semlock.__enter__()\n",
      "KeyboardInterrupt\n",
      "KeyboardInterrupt\n",
      "Traceback (most recent call last):\n",
      "  File \"/usr/lib/python3.6/multiprocessing/process.py\", line 258, in _bootstrap\n",
      "    self.run()\n",
      "  File \"/usr/lib/python3.6/multiprocessing/process.py\", line 93, in run\n",
      "    self._target(*self._args, **self._kwargs)\n",
      "  File \"/usr/lib/python3.6/multiprocessing/pool.py\", line 108, in worker\n",
      "    task = get()\n",
      "  File \"/usr/lib/python3.6/multiprocessing/queues.py\", line 335, in get\n",
      "    res = self._reader.recv_bytes()\n",
      "  File \"/usr/lib/python3.6/multiprocessing/connection.py\", line 216, in recv_bytes\n",
      "    buf = self._recv_bytes(maxlength)\n",
      "  File \"/usr/lib/python3.6/multiprocessing/connection.py\", line 407, in _recv_bytes\n",
      "    buf = self._recv(4)\n",
      "  File \"/usr/lib/python3.6/multiprocessing/connection.py\", line 379, in _recv\n",
      "    chunk = read(handle, remaining)\n",
      "KeyboardInterrupt\n"
     ]
    },
    {
     "ename": "KeyboardInterrupt",
     "evalue": "",
     "output_type": "error",
     "traceback": [
      "\u001b[0;31m-------------------------------------------------\u001b[0m",
      "\u001b[0;31mKeyboardInterrupt\u001b[0mTraceback (most recent call last)",
      "\u001b[0;32m<ipython-input-27-a7998cbfdb5a>\u001b[0m in \u001b[0;36m<module>\u001b[0;34m\u001b[0m\n\u001b[1;32m     17\u001b[0m         \u001b[0;31m#for i, _ in tqdm(enumerate(p.imap_unordered(_foo, range(0, max_))), total=max_):\u001b[0m\u001b[0;34m\u001b[0m\u001b[0;34m\u001b[0m\u001b[0m\n\u001b[1;32m     18\u001b[0m         \u001b[0;31m#    pass\u001b[0m\u001b[0;34m\u001b[0m\u001b[0;34m\u001b[0m\u001b[0m\n\u001b[0;32m---> 19\u001b[0;31m         \u001b[0;32mfor\u001b[0m \u001b[0m_\u001b[0m\u001b[0;34m,\u001b[0m\u001b[0mi\u001b[0m \u001b[0;32min\u001b[0m \u001b[0mtqdm\u001b[0m\u001b[0;34m(\u001b[0m\u001b[0menumerate\u001b[0m\u001b[0;34m(\u001b[0m\u001b[0mp\u001b[0m\u001b[0;34m.\u001b[0m\u001b[0mmap\u001b[0m\u001b[0;34m(\u001b[0m\u001b[0mf\u001b[0m\u001b[0;34m,\u001b[0m \u001b[0;34m[\u001b[0m\u001b[0mtuple\u001b[0m\u001b[0;34m(\u001b[0m\u001b[0;34m[\u001b[0m\u001b[0mi\u001b[0m\u001b[0;34m]\u001b[0m\u001b[0;34m)\u001b[0m \u001b[0;32mfor\u001b[0m \u001b[0mi\u001b[0m \u001b[0;32min\u001b[0m \u001b[0mrange\u001b[0m\u001b[0;34m(\u001b[0m\u001b[0;36m10\u001b[0m\u001b[0;34m)\u001b[0m\u001b[0;34m]\u001b[0m\u001b[0;34m)\u001b[0m\u001b[0;34m)\u001b[0m\u001b[0;34m,\u001b[0m \u001b[0mtotal\u001b[0m \u001b[0;34m=\u001b[0m \u001b[0;36m10\u001b[0m\u001b[0;34m)\u001b[0m\u001b[0;34m:\u001b[0m\u001b[0;34m\u001b[0m\u001b[0m\n\u001b[0m\u001b[1;32m     20\u001b[0m             \u001b[0mprint\u001b[0m\u001b[0;34m(\u001b[0m\u001b[0mi\u001b[0m\u001b[0;34m)\u001b[0m\u001b[0;34m\u001b[0m\u001b[0m\n\u001b[1;32m     21\u001b[0m             \u001b[0mtime\u001b[0m\u001b[0;34m.\u001b[0m\u001b[0msleep\u001b[0m\u001b[0;34m(\u001b[0m\u001b[0;36m1\u001b[0m\u001b[0;34m)\u001b[0m\u001b[0;34m\u001b[0m\u001b[0m\n",
      "\u001b[0;32m~/.local/lib/python3.6/site-packages/tqdm/__init__.py\u001b[0m in \u001b[0;36mtqdm_notebook\u001b[0;34m(*args, **kwargs)\u001b[0m\n\u001b[1;32m     23\u001b[0m     \u001b[0;34m\"\"\"See tqdm._tqdm_notebook.tqdm_notebook for full documentation\"\"\"\u001b[0m\u001b[0;34m\u001b[0m\u001b[0m\n\u001b[1;32m     24\u001b[0m     \u001b[0;32mfrom\u001b[0m \u001b[0;34m.\u001b[0m\u001b[0m_tqdm_notebook\u001b[0m \u001b[0;32mimport\u001b[0m \u001b[0mtqdm_notebook\u001b[0m \u001b[0;32mas\u001b[0m \u001b[0m_tqdm_notebook\u001b[0m\u001b[0;34m\u001b[0m\u001b[0m\n\u001b[0;32m---> 25\u001b[0;31m     \u001b[0;32mreturn\u001b[0m \u001b[0m_tqdm_notebook\u001b[0m\u001b[0;34m(\u001b[0m\u001b[0;34m*\u001b[0m\u001b[0margs\u001b[0m\u001b[0;34m,\u001b[0m \u001b[0;34m**\u001b[0m\u001b[0mkwargs\u001b[0m\u001b[0;34m)\u001b[0m\u001b[0;34m\u001b[0m\u001b[0m\n\u001b[0m\u001b[1;32m     26\u001b[0m \u001b[0;34m\u001b[0m\u001b[0m\n\u001b[1;32m     27\u001b[0m \u001b[0;34m\u001b[0m\u001b[0m\n",
      "\u001b[0;32m~/.local/lib/python3.6/site-packages/tqdm/_tqdm.py\u001b[0m in \u001b[0;36m__new__\u001b[0;34m(cls, *args, **kwargs)\u001b[0m\n\u001b[1;32m    409\u001b[0m         \u001b[0;32mif\u001b[0m \u001b[0;34m\"_lock\"\u001b[0m \u001b[0;32mnot\u001b[0m \u001b[0;32min\u001b[0m \u001b[0mcls\u001b[0m\u001b[0;34m.\u001b[0m\u001b[0m__dict__\u001b[0m\u001b[0;34m:\u001b[0m\u001b[0;34m\u001b[0m\u001b[0m\n\u001b[1;32m    410\u001b[0m             \u001b[0mcls\u001b[0m\u001b[0;34m.\u001b[0m\u001b[0m_lock\u001b[0m \u001b[0;34m=\u001b[0m \u001b[0mTqdmDefaultWriteLock\u001b[0m\u001b[0;34m(\u001b[0m\u001b[0;34m)\u001b[0m\u001b[0;34m\u001b[0m\u001b[0m\n\u001b[0;32m--> 411\u001b[0;31m         \u001b[0;32mwith\u001b[0m \u001b[0mcls\u001b[0m\u001b[0;34m.\u001b[0m\u001b[0m_lock\u001b[0m\u001b[0;34m:\u001b[0m\u001b[0;34m\u001b[0m\u001b[0m\n\u001b[0m\u001b[1;32m    412\u001b[0m             \u001b[0mcls\u001b[0m\u001b[0;34m.\u001b[0m\u001b[0m_instances\u001b[0m\u001b[0;34m.\u001b[0m\u001b[0madd\u001b[0m\u001b[0;34m(\u001b[0m\u001b[0minstance\u001b[0m\u001b[0;34m)\u001b[0m\u001b[0;34m\u001b[0m\u001b[0m\n\u001b[1;32m    413\u001b[0m         \u001b[0;31m# Create the monitoring thread\u001b[0m\u001b[0;34m\u001b[0m\u001b[0;34m\u001b[0m\u001b[0m\n",
      "\u001b[0;32m~/.local/lib/python3.6/site-packages/tqdm/_tqdm.py\u001b[0m in \u001b[0;36m__enter__\u001b[0;34m(self)\u001b[0m\n\u001b[1;32m    104\u001b[0m \u001b[0;34m\u001b[0m\u001b[0m\n\u001b[1;32m    105\u001b[0m     \u001b[0;32mdef\u001b[0m \u001b[0m__enter__\u001b[0m\u001b[0;34m(\u001b[0m\u001b[0mself\u001b[0m\u001b[0;34m)\u001b[0m\u001b[0;34m:\u001b[0m\u001b[0;34m\u001b[0m\u001b[0m\n\u001b[0;32m--> 106\u001b[0;31m         \u001b[0mself\u001b[0m\u001b[0;34m.\u001b[0m\u001b[0macquire\u001b[0m\u001b[0;34m(\u001b[0m\u001b[0;34m)\u001b[0m\u001b[0;34m\u001b[0m\u001b[0m\n\u001b[0m\u001b[1;32m    107\u001b[0m \u001b[0;34m\u001b[0m\u001b[0m\n\u001b[1;32m    108\u001b[0m     \u001b[0;32mdef\u001b[0m \u001b[0m__exit__\u001b[0m\u001b[0;34m(\u001b[0m\u001b[0mself\u001b[0m\u001b[0;34m,\u001b[0m \u001b[0;34m*\u001b[0m\u001b[0mexc\u001b[0m\u001b[0;34m)\u001b[0m\u001b[0;34m:\u001b[0m\u001b[0;34m\u001b[0m\u001b[0m\n",
      "\u001b[0;32m~/.local/lib/python3.6/site-packages/tqdm/_tqdm.py\u001b[0m in \u001b[0;36macquire\u001b[0;34m(self)\u001b[0m\n\u001b[1;32m     97\u001b[0m     \u001b[0;32mdef\u001b[0m \u001b[0macquire\u001b[0m\u001b[0;34m(\u001b[0m\u001b[0mself\u001b[0m\u001b[0;34m)\u001b[0m\u001b[0;34m:\u001b[0m\u001b[0;34m\u001b[0m\u001b[0m\n\u001b[1;32m     98\u001b[0m         \u001b[0;32mfor\u001b[0m \u001b[0mlock\u001b[0m \u001b[0;32min\u001b[0m \u001b[0mself\u001b[0m\u001b[0;34m.\u001b[0m\u001b[0mlocks\u001b[0m\u001b[0;34m:\u001b[0m\u001b[0;34m\u001b[0m\u001b[0m\n\u001b[0;32m---> 99\u001b[0;31m             \u001b[0mlock\u001b[0m\u001b[0;34m.\u001b[0m\u001b[0macquire\u001b[0m\u001b[0;34m(\u001b[0m\u001b[0;34m)\u001b[0m\u001b[0;34m\u001b[0m\u001b[0m\n\u001b[0m\u001b[1;32m    100\u001b[0m \u001b[0;34m\u001b[0m\u001b[0m\n\u001b[1;32m    101\u001b[0m     \u001b[0;32mdef\u001b[0m \u001b[0mrelease\u001b[0m\u001b[0;34m(\u001b[0m\u001b[0mself\u001b[0m\u001b[0;34m)\u001b[0m\u001b[0;34m:\u001b[0m\u001b[0;34m\u001b[0m\u001b[0m\n",
      "\u001b[0;31mKeyboardInterrupt\u001b[0m: "
     ]
    }
   ],
   "source": [
    "from multiprocessing import Pool\n",
    "import time\n",
    "from tqdm import tqdm_notebook as tqdm\n",
    "\n",
    "def _foo(my_number):\n",
    "    for i in tqdm(range(0,10)):\n",
    "        time.sleep(0.5)\n",
    "        print (my_number)\n",
    "    #return square \n",
    "\n",
    "def f(x):\n",
    "    return x[0]*x[0]\n",
    "if __name__ == '__main__':\n",
    "    with Pool(processes=8) as p:\n",
    "        #max_ = 30\n",
    "        ##with tqdm(total=max_) as pbar:\n",
    "        #for i, _ in tqdm(enumerate(p.imap_unordered(_foo, range(0, max_))), total=max_):\n",
    "        #    pass\n",
    "        for _,i in tqdm(enumerate(p.map(f, [tuple([i]) for i in range(10)])), total = 10):\n",
    "            print(i)\n",
    "            time.sleep(1)"
   ]
  },
  {
   "cell_type": "code",
   "execution_count": 54,
   "metadata": {},
   "outputs": [],
   "source": [
    "import time\n",
    "import random"
   ]
  },
  {
   "cell_type": "code",
   "execution_count": 36,
   "metadata": {},
   "outputs": [],
   "source": [
    "from multiprocessing import Pool, TimeoutError\n",
    "import time\n",
    "import os\n",
    "\n",
    "def f():\n",
    "    #n = os.getpid()\n",
    "    for i in tqdm(range(0,100)):\n",
    "        time.sleep(random.randint(0,1))"
   ]
  },
  {
   "cell_type": "code",
   "execution_count": 28,
   "metadata": {},
   "outputs": [],
   "source": [
    "from tqdm import tqdm_notebook as tqdm\n",
    "import random"
   ]
  },
  {
   "cell_type": "code",
   "execution_count": null,
   "metadata": {},
   "outputs": [],
   "source": [
    "with Pool(processes=8) as pool:\n",
    "\n",
    "        ## evaluate \"f(20)\" asynchronously\n",
    "        #res = pool.apply_async(f, (20,))      # runs in *only* one process\n",
    "        #print(res.get(timeout=10000))             # prints \"400\"\n",
    "\n",
    "        ## evaluate \"os.getpid()\" asynchronously\n",
    "        #res = pool.apply_async(os.getpid, ()) # runs in *only* one process\n",
    "        #print(res.get(timeout=10000))             # prints the PID of that process\n",
    "\n",
    "        # launching multiple evaluations asynchronously *may* use more processes\n",
    "        multiple_results = [pool.apply_async(f, ()) for i in range(4)]\n",
    "        print([res.get(timeout=10000) for res in multiple_results])\n",
    "\n",
    "        # make a single worker sleep for 10 secs\n",
    "        res = pool.apply_async(time.sleep, (10,))\n",
    "        try:\n",
    "            print(res.get(timeout=10000))\n",
    "        except TimeoutError:\n",
    "            print(\"We lacked patience and got a multiprocessing.TimeoutError\")\n",
    "\n",
    "        print(\"For the moment, the pool remains available for more work\")\n",
    "\n",
    "    # exiting the 'with'-block has stopped the pool\n",
    "print(\"Now the pool is closed and no longer available\")"
   ]
  },
  {
   "cell_type": "markdown",
   "metadata": {},
   "source": [
    "#"
   ]
  },
  {
   "cell_type": "code",
   "execution_count": 1,
   "metadata": {},
   "outputs": [],
   "source": [
    "import mysql.connector\n",
    "from multiprocessing import Pool, TimeoutError\n",
    "import time\n",
    "import os\n",
    "from tqdm import tqdm_notebook as tqdm\n",
    "from funcs import *\n",
    "from IPython.display import clear_output\n",
    "clear_output()\n",
    "password = 'mandarinka'\n",
    "UD = Model('./english-ud-2.1-20180111.udpipe')\n",
    "\n",
    "pbar = None\n",
    "\n",
    "def conllu(text):\n",
    "        #text = ' '.join(tknzr.tokenize(text))\n",
    "        sentences = UD.tokenize(text)\n",
    "        for s in sentences:\n",
    "            UD.tag(s)\n",
    "            UD.parse(s)\n",
    "        conllu = UD.write(sentences, \"conllu\")\n",
    "        return conllu\n",
    "\n",
    "class ParDB:\n",
    "    def __init__(self, n_jobs=4):\n",
    "        self.nrows = {'C': 74352960, 'R': 79422, 'U':630193}\n",
    "        self.n_jobs = n_jobs\n",
    "        self.select_con = [mysql.connector.connect(host=\"localhost\",\n",
    "                                                   user=\"root\",\n",
    "                                                   passwd=password,\n",
    "                                                   database=\"commits_db\",\n",
    "                                                   charset='utf8mb4') for i in range(n_jobs)]\n",
    "        self.select_cur = [i.cursor() for i in self.select_con]\n",
    "        self.update_con = [mysql.connector.connect(host=\"localhost\",\n",
    "                                                   user=\"root\",\n",
    "                                                   passwd=password,\n",
    "                                                   database=\"commits_db\",\n",
    "                                                   charset='utf8mb4') for i in range(n_jobs)]\n",
    "        self.update_cur = [i.cursor() for i in self.update_con]\n",
    "        \n",
    "    def _one(self, start, job):\n",
    "        #start = arg[0]\n",
    "        #job = arg[1]\n",
    "        global pbar\n",
    "        request = 'SELECT id, {} FROM {} WHERE id >= {} LIMIT {}'.format(self.source, \n",
    "                                                                        self.table, \n",
    "                                                                        start, \n",
    "                                                                        self.k)\n",
    "        self.select_cur[job].execute(request)\n",
    "        data = self.select_cur[job].fetchall()\n",
    "        result = []\n",
    "        for i in data:\n",
    "            print (i)\n",
    "            result.append(tuple([self.function(i[1]), i[0]]))\n",
    "        self.update_cur[job].executemany(self.update, result)\n",
    "        self.update_con[job].commit()\n",
    "        return job\n",
    "        #print ('{}/{}'.format(start, self.nrows[self.table]))\n",
    "        #clear_output()\n",
    "    \n",
    "    def _yield_args(self):\n",
    "        for key, i in enumerate(range(self.start, self.nrows[self.table], self.k)):\n",
    "            yield (i, key % self.n_jobs)\n",
    "\n",
    "    def apply(self, table, source, target, function, k=10000, start=0, shared_model=None):\n",
    "        global pbar\n",
    "        self.table = table\n",
    "        self.source = source\n",
    "        self.target = target\n",
    "        self.function = function\n",
    "        self.k = k\n",
    "        self.start = start\n",
    "        self.update = 'UPDATE {} SET {}=%s WHERE id=%s'.format(table, target) \n",
    "        self.max_ = self.nrows[table] - start\n",
    "        \n",
    "        #pbar = tqdm(total=max_)\n",
    "        #args = list(self._yield_args())\n",
    "        #p = Pool(self.n_jobs)\n",
    "        #for i in tqdm(range(0, max_, self.k)):\n",
    "        #    #try:\n",
    "        #        A = args[i:i+self.k]\n",
    "        #        #print (i, A)\n",
    "        #        print(p.starmap(self._one, A))\n",
    "        #    #except:\n",
    "        #    #    print(args[i])\n",
    "        #    #    break\n",
    "        #p.close()\n",
    "        ##pbar.close()\n",
    "        #print ('This is the end...')"
   ]
  },
  {
   "cell_type": "code",
   "execution_count": 2,
   "metadata": {},
   "outputs": [],
   "source": [
    "DB = ParDB(n_jobs = 8)"
   ]
  },
  {
   "cell_type": "code",
   "execution_count": 3,
   "metadata": {},
   "outputs": [],
   "source": [
    "DB.apply('C', 'text', 'len_char', len, k=100, start=0)"
   ]
  },
  {
   "cell_type": "code",
   "execution_count": null,
   "metadata": {},
   "outputs": [],
   "source": [
    "        args = list(DB._yield_args())\n",
    "        p = Pool(DB.n_jobs)\n",
    "        for i in tqdm(range(0, DB.max_, DB.k)):\n",
    "            #try:\n",
    "                A = args[i:i+DB.k]\n",
    "                #print (i, A)\n",
    "                print(p.starmap(DB._one, A))\n",
    "            #except:\n",
    "            #    print(args[i])\n",
    "            #    break\n",
    "        p.close()\n",
    "        #pbar.close()\n",
    "        print ('This is the end...')"
   ]
  },
  {
   "cell_type": "code",
   "execution_count": null,
   "metadata": {},
   "outputs": [],
   "source": []
  },
  {
   "cell_type": "code",
   "execution_count": null,
   "metadata": {},
   "outputs": [],
   "source": [
    "DB.apply('C', 'text', 'conllu', conllu, k=1000, start=16682000)"
   ]
  },
  {
   "cell_type": "code",
   "execution_count": 1,
   "metadata": {},
   "outputs": [],
   "source": [
    "import mysql.connector\n",
    "from multiprocessing import Pool, TimeoutError\n",
    "import time\n",
    "import os\n",
    "from tqdm import tqdm_notebook as tqdm\n",
    "from funcs import *\n",
    "\n",
    "#UD = Model('./english-ud-2.1-20180111.udpipe')\n",
    "\n",
    "def conllu(text):\n",
    "        return text\n",
    "\n",
    "class ParDB:\n",
    "    def __init__(self):\n",
    "        pass\n",
    "        \n",
    "    def _one(self, start, job):\n",
    "        #global pbar\n",
    "        time.sleep(1)\n",
    "        #print (job, start)\n",
    "        return 1\n",
    "    \n",
    "    def _yield_args(self):\n",
    "        for i in range(0,1000):\n",
    "            yield (i, i % 8)\n",
    "\n",
    "    def apply(self):\n",
    "        #global pbar\n",
    "        max_ = 100000\n",
    "        pbar = tqdm(total=max_)\n",
    "        args = list(self._yield_args())\n",
    "        p = Pool(8)\n",
    "        p.starmap(self._one, args)\n",
    "        pool.close()\n",
    "        pbar.close()\n",
    "        print ('This is the end...')"
   ]
  },
  {
   "cell_type": "code",
   "execution_count": 2,
   "metadata": {},
   "outputs": [],
   "source": [
    "DB = ParDB()"
   ]
  },
  {
   "cell_type": "code",
   "execution_count": null,
   "metadata": {},
   "outputs": [],
   "source": [
    "DB.apply()"
   ]
  },
  {
   "cell_type": "code",
   "execution_count": null,
   "metadata": {},
   "outputs": [],
   "source": []
  },
  {
   "cell_type": "code",
   "execution_count": null,
   "metadata": {},
   "outputs": [],
   "source": []
  },
  {
   "cell_type": "code",
   "execution_count": null,
   "metadata": {},
   "outputs": [],
   "source": []
  },
  {
   "cell_type": "code",
   "execution_count": 1,
   "metadata": {},
   "outputs": [],
   "source": [
    "import mysql.connector\n",
    "from multiprocessing import Pool, TimeoutError\n",
    "import time\n",
    "import os\n",
    "from tqdm import tqdm_notebook as tqdm\n",
    "from funcs import *\n",
    "from IPython.display import clear_output\n",
    "clear_output()\n",
    "password = 'mandarinka'\n",
    "UD = Model('./english-ud-2.1-20180111.udpipe')\n",
    "\n",
    "pbar = None\n",
    "\n",
    "def conllu(text):\n",
    "        #text = ' '.join(tknzr.tokenize(text))\n",
    "        sentences = UD.tokenize(text)\n",
    "        for s in sentences:\n",
    "            UD.tag(s)\n",
    "            UD.parse(s)\n",
    "        conllu = UD.write(sentences, \"conllu\")\n",
    "        return conllu\n",
    "\n",
    "class ParDB:\n",
    "    def __init__(self, n_jobs=4):\n",
    "        self.nrows = {'C': 74352960, 'R': 79422, 'U':630193}\n",
    "        self.n_jobs = n_jobs\n",
    "        self.select_con = [mysql.connector.connect(host=\"localhost\",\n",
    "                                                   user=\"root\",\n",
    "                                                   passwd=password,\n",
    "                                                   database=\"commits_db\",\n",
    "                                                   charset='utf8mb4') for i in range(n_jobs)]\n",
    "        self.select_cur = [i.cursor() for i in self.select_con]\n",
    "        self.update_con = [mysql.connector.connect(host=\"localhost\",\n",
    "                                                   user=\"root\",\n",
    "                                                   passwd=password,\n",
    "                                                   database=\"commits_db\",\n",
    "                                                   charset='utf8mb4') for i in range(n_jobs)]\n",
    "        self.update_cur = [i.cursor() for i in self.update_con]\n",
    "    def _yield_args(self):\n",
    "        for key, i in enumerate(range(self.start, self.nrows[self.table], self.k)):\n",
    "            yield [i, key % self.n_jobs]\n",
    "        \n",
    "def _one(self, start, job):\n",
    "        #start = arg[0]\n",
    "        #job = arg[1]\n",
    "        global pbar\n",
    "        request = 'SELECT id, {} FROM {} WHERE id >= {} LIMIT {}'.format(self.source, \n",
    "                                                                        self.table, \n",
    "                                                                        start, \n",
    "                                                                        self.k)\n",
    "        self.select_cur[job].execute(request)\n",
    "        data = self.select_cur[job].fetchall()\n",
    "        result = []\n",
    "        for i in data:\n",
    "            print (i)\n",
    "            result.append(tuple([self.function(i[1]), i[0]]))\n",
    "        self.update_cur[job].executemany(self.update, result)\n",
    "        self.update_con[job].commit()\n",
    "        return job\n",
    "        #print ('{}/{}'.format(start, self.nrows[self.table]))\n",
    "        #clear_output()\n",
    "    \n",
    "\n",
    "def apply(self, table, source, target, function, k=10000, start=0, shared_model=None):\n",
    "        self.table = table\n",
    "        self.source = source\n",
    "        self.target = target\n",
    "        self.function = function\n",
    "        self.k = k\n",
    "        self.start = start\n",
    "        self.update = 'UPDATE {} SET {}=%s WHERE id=%s'.format(table, target) \n",
    "        self.max_ = self.nrows[table] - start\n",
    "        \n",
    "        pbar = tqdm(total=self.max_)\n",
    "        args = list(self._yield_args())\n",
    "        p = Pool(self.n_jobs)\n",
    "        for i in tqdm(range(0, self.max_, self.k)):\n",
    "            #try:\n",
    "                A = args[i:i+self.k]\n",
    "                B = [[self]+j for j in A]\n",
    "                #print (i, A)\n",
    "                print(p.starmap(_one, B))\n",
    "            #except:\n",
    "            #    print(args[i])\n",
    "            #    break\n",
    "        p.close()\n",
    "        #pbar.close()\n",
    "        print ('This is the end...')"
   ]
  },
  {
   "cell_type": "code",
   "execution_count": 2,
   "metadata": {},
   "outputs": [],
   "source": [
    "DB = ParDB(n_jobs = 8)"
   ]
  },
  {
   "cell_type": "code",
   "execution_count": null,
   "metadata": {},
   "outputs": [],
   "source": [
    "apply(DB, 'C', 'text', 'len_char', len, k=100, start=0)"
   ]
  }
 ],
 "metadata": {
  "kernelspec": {
   "display_name": "Python 3",
   "language": "python",
   "name": "python3"
  },
  "language_info": {
   "codemirror_mode": {
    "name": "ipython",
    "version": 3
   },
   "file_extension": ".py",
   "mimetype": "text/x-python",
   "name": "python",
   "nbconvert_exporter": "python",
   "pygments_lexer": "ipython3",
   "version": "3.6.6"
  }
 },
 "nbformat": 4,
 "nbformat_minor": 2
}
